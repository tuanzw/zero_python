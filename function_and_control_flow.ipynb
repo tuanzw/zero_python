{
 "cells": [
  {
   "cell_type": "markdown",
   "id": "24a52f82",
   "metadata": {},
   "source": [
    "# Functions"
   ]
  },
  {
   "cell_type": "code",
   "execution_count": 1,
   "id": "988486b8",
   "metadata": {},
   "outputs": [],
   "source": [
    "SUFFIXES = {\n",
    "    1000: ['KB', 'MB', 'GB', 'TB', 'PB', 'EB', 'ZB', 'YB'],\n",
    "    1024: ['KiB', 'MiB', 'GiB', 'TiB', 'PiB', 'EiB', 'ZiB', 'YiB']\n",
    "}\n",
    "\n",
    "def approximate_size(size, a_kilobyte_is_1024_bytes=True) -> str:\n",
    "    '''Convert a file size to human-readable form\n",
    "    \n",
    "    Arguments:\n",
    "        size -- file size in bytes\n",
    "        a_kilobyte_is_1024_bytes -- if True (default), use multiples of 1024\n",
    "                                    if False, use multiples of 1000\n",
    "    Returns: String\n",
    "    '''\n",
    "    if size < 0:\n",
    "        raise ValueError('number must be non-negative')\n",
    "    \n",
    "    multiple = 1024 if a_kilobyte_is_1024_bytes else 1000\n",
    "    for suffix in SUFFIXES[multiple]:\n",
    "        size /= multiple\n",
    "        if size < multiple:\n",
    "            return f'{size:0.1f} {suffix}'\n",
    "    \n",
    "    raise ValueError('number too large')"
   ]
  },
  {
   "cell_type": "code",
   "execution_count": 2,
   "id": "79b401fb",
   "metadata": {},
   "outputs": [
    {
     "data": {
      "text/plain": [
       "'100.0 TB'"
      ]
     },
     "execution_count": 2,
     "metadata": {},
     "output_type": "execute_result"
    }
   ],
   "source": [
    "approximate_size(100000000000000, False)"
   ]
  },
  {
   "cell_type": "code",
   "execution_count": 3,
   "id": "594a4f3e",
   "metadata": {},
   "outputs": [
    {
     "data": {
      "text/plain": [
       "'90.9 TiB'"
      ]
     },
     "execution_count": 3,
     "metadata": {},
     "output_type": "execute_result"
    }
   ],
   "source": [
    "approximate_size(100000000000000)"
   ]
  },
  {
   "cell_type": "code",
   "execution_count": 8,
   "id": "d1708116",
   "metadata": {},
   "outputs": [
    {
     "name": "stdout",
     "output_type": "stream",
     "text": [
      "Convert a file size to human-readable form\n",
      "    \n",
      "    Arguments:\n",
      "        size -- file size in bytes\n",
      "        a_kilobyte_is_1024_bytes -- if True (default), use multiples of 1024\n",
      "                                    if False, use multiples of 1000\n",
      "    Returns: String\n",
      "    \n"
     ]
    }
   ],
   "source": [
    "# docs string of the function\n",
    "print(approximate_size.__doc__)"
   ]
  },
  {
   "attachments": {},
   "cell_type": "markdown",
   "id": "3d0b2eb4",
   "metadata": {},
   "source": [
    "**1. First-Class Object**\n",
    "- A first-class object in a programming language is an entity which supports all the operations generally available to other entities. These operations typically include being passed as argument, returned from a function, and assigned to a variable\n",
    "\n",
    "**2. Everything in Python is an Object**\n",
    "- Everything is an object in the sense that it can be assigned to a variable, passed as an argument to a function, and returned from a function\n",
    "- Strings are objects. Lists are objects. Functions are objects. Classes are objects. Class instances are objects. Even modules are objects"
   ]
  },
  {
   "cell_type": "code",
   "execution_count": 9,
   "id": "7668c3be",
   "metadata": {},
   "outputs": [],
   "source": [
    "def square(x):\n",
    "    return x**2"
   ]
  },
  {
   "cell_type": "code",
   "execution_count": 12,
   "id": "e95f5a7a",
   "metadata": {},
   "outputs": [
    {
     "data": {
      "text/plain": [
       "function"
      ]
     },
     "execution_count": 12,
     "metadata": {},
     "output_type": "execute_result"
    }
   ],
   "source": [
    "f = square\n",
    "type(f)"
   ]
  },
  {
   "cell_type": "code",
   "execution_count": 39,
   "id": "ce43207f",
   "metadata": {},
   "outputs": [
    {
     "name": "stdout",
     "output_type": "stream",
     "text": [
      "['__annotations__', '__call__', '__class__', '__closure__', '__code__', '__defaults__', '__delattr__', '__dict__', '__dir__', '__doc__', '__eq__', '__format__', '__ge__', '__get__', '__getattribute__', '__globals__', '__gt__', '__hash__', '__init__', '__init_subclass__', '__kwdefaults__', '__le__', '__lt__', '__module__', '__name__', '__ne__', '__new__', '__qualname__', '__reduce__', '__reduce_ex__', '__repr__', '__setattr__', '__sizeof__', '__str__', '__subclasshook__']\n"
     ]
    }
   ],
   "source": [
    "print(dir(f))"
   ]
  },
  {
   "cell_type": "code",
   "execution_count": 14,
   "id": "61c7a2fe",
   "metadata": {},
   "outputs": [
    {
     "data": {
      "text/plain": [
       "4"
      ]
     },
     "execution_count": 14,
     "metadata": {},
     "output_type": "execute_result"
    }
   ],
   "source": [
    "f(2)"
   ]
  },
  {
   "cell_type": "code",
   "execution_count": 15,
   "id": "bf3bb274",
   "metadata": {},
   "outputs": [
    {
     "name": "stdout",
     "output_type": "stream",
     "text": [
      "<function square at 0x00000196E3087C10>\n"
     ]
    }
   ],
   "source": [
    "print(f)"
   ]
  },
  {
   "cell_type": "code",
   "execution_count": 16,
   "id": "7cd71b68",
   "metadata": {},
   "outputs": [
    {
     "name": "stdout",
     "output_type": "stream",
     "text": [
      "25\n"
     ]
    }
   ],
   "source": [
    "print(f(5))"
   ]
  },
  {
   "cell_type": "markdown",
   "id": "3e6d1647",
   "metadata": {},
   "source": [
    "## Object introspection\n",
    "***\n",
    "```\n",
    "dir() function\\n\n",
    "type() functinon\n",
    "id() function\n",
    "__dir__ method\n",
    "__dict__ attribute\n",
    "inspect module\n",
    "dis module\n",
    "```\n",
    "***"
   ]
  },
  {
   "cell_type": "code",
   "execution_count": 33,
   "id": "5b8aa786",
   "metadata": {},
   "outputs": [
    {
     "data": {
      "text/plain": [
       "1747565706256"
      ]
     },
     "execution_count": 33,
     "metadata": {},
     "output_type": "execute_result"
    }
   ],
   "source": [
    "id(f)"
   ]
  },
  {
   "cell_type": "code",
   "execution_count": 38,
   "id": "f2ee2e1a",
   "metadata": {},
   "outputs": [
    {
     "name": "stdout",
     "output_type": "stream",
     "text": [
      "['__repr__', '__call__', '__get__', '__new__', '__closure__', '__doc__', '__globals__', '__module__', '__code__', '__defaults__', '__kwdefaults__', '__annotations__', '__dict__', '__name__', '__qualname__', '__hash__', '__str__', '__getattribute__', '__setattr__', '__delattr__', '__lt__', '__le__', '__eq__', '__ne__', '__gt__', '__ge__', '__init__', '__reduce_ex__', '__reduce__', '__subclasshook__', '__init_subclass__', '__format__', '__sizeof__', '__dir__', '__class__']\n"
     ]
    }
   ],
   "source": [
    "print(f.__dir__())"
   ]
  },
  {
   "cell_type": "code",
   "execution_count": 41,
   "id": "043df457",
   "metadata": {},
   "outputs": [
    {
     "name": "stdout",
     "output_type": "stream",
     "text": [
      "  2           0 LOAD_FAST                0 (x)\n",
      "              2 LOAD_CONST               1 (2)\n",
      "              4 BINARY_POWER\n",
      "              6 RETURN_VALUE\n"
     ]
    }
   ],
   "source": [
    "import dis\n",
    "dis.dis(f)"
   ]
  },
  {
   "cell_type": "code",
   "execution_count": 45,
   "id": "457a72c9",
   "metadata": {},
   "outputs": [
    {
     "name": "stdout",
     "output_type": "stream",
     "text": [
      "square\n"
     ]
    }
   ],
   "source": [
    "print(f.__name__)"
   ]
  },
  {
   "cell_type": "code",
   "execution_count": 46,
   "id": "dc65b491",
   "metadata": {},
   "outputs": [
    {
     "name": "stdout",
     "output_type": "stream",
     "text": [
      "<code object square at 0x00000196E3079500, file \"C:\\Users\\nmtuan\\AppData\\Local\\Temp/ipykernel_9700/2183299134.py\", line 1>\n"
     ]
    }
   ],
   "source": [
    "print(f.__code__)"
   ]
  },
  {
   "cell_type": "code",
   "execution_count": 49,
   "id": "8a94081b",
   "metadata": {},
   "outputs": [
    {
     "name": "stdout",
     "output_type": "stream",
     "text": [
      "<method-wrapper '__get__' of function object at 0x00000196E3087C10>\n"
     ]
    }
   ],
   "source": [
    "print(f.__get__)"
   ]
  },
  {
   "attachments": {},
   "cell_type": "markdown",
   "id": "22909753",
   "metadata": {},
   "source": [
    "## Parameters vs Arguments\n",
    "### There are 5 types of parameter\n",
    "***\n",
    "* *positional-or-keyword:* specifies an argument that can be passed either positionally or as a keyword argument. This is the default kind of parameter.\n",
    "```\n",
    "def func(foo, bar=None): ...\n",
    "```\n",
    "* *positional-only:* specifies an argument that can be supplied only by position.\n",
    "* *keyword-only:* specifies an argument that can be supplied only by keyword. Keyword-only parameters can be defined by including a single var-positional parameter or bare * in the parameter list of the function definition before them.\n",
    "```\n",
    "def func(arg, *, kw_only1, kw_only2): ...\n",
    "```\n",
    "* *var-positional:* specifies that an arbitrary sequence of positional arguments can be provided. Such a parameter can be defined by prepending the parameter name with * (for example: args in the following)\n",
    "```\n",
    "def func(*args, *kwargs): ...\n",
    "```\n",
    "* *var-keyword:* specifies that an arbitrary many keyword arguments can be provided. Such a parameter can be defined by prepending the parameter name with ** (for example: kwargs in the example above)\n",
    "\n",
    "***\n",
    "\n",
    "### There are 2 types of argument\n",
    "***\n",
    "* *keyword argument:* an argument preceded by an identifier (e.g. name=) in a function call or passed as a value in a dictionary preceded by **.\n",
    "```\n",
    "complex(real=3, image=5)\n",
    "complex(**{'real': 3, 'image': 5})\n",
    "```\n",
    "* *positional-only:* specifies an argument that can be supplied only by position.\n",
    "* *positional argument:* an argument that is not a keyword argument. Positional arguments can appear at the beginning of an argument list and/or be passed as elements of an iterable preceded by *\n",
    "```\n",
    "complex(3, 5)\n",
    "complex(*[3, 5])\n",
    "```\n",
    "\n",
    "***\n"
   ]
  },
  {
   "cell_type": "code",
   "execution_count": 19,
   "id": "b1a16058",
   "metadata": {},
   "outputs": [
    {
     "data": {
      "text/plain": [
       "(1, 2, (3, 4, 5), 'kwarg2', {'bar': 'bar', 'baz': 'baz'})"
      ]
     },
     "execution_count": 19,
     "metadata": {},
     "output_type": "execute_result"
    }
   ],
   "source": [
    "def foo(arg, kwarg=None, *args, kwarg2=None, **kwargs):\n",
    "    return arg, kwarg, args, kwarg2, kwargs\n",
    "foo(1, 2, 3, 4, 5, kwarg2='kwarg2', bar='bar', baz='baz')"
   ]
  },
  {
   "cell_type": "code",
   "execution_count": 20,
   "id": "ffbd3661",
   "metadata": {},
   "outputs": [
    {
     "ename": "TypeError",
     "evalue": "foo() takes from 1 to 2 positional arguments but 5 positional arguments (and 1 keyword-only argument) were given",
     "output_type": "error",
     "traceback": [
      "\u001b[1;31m---------------------------------------------------------------------------\u001b[0m",
      "\u001b[1;31mTypeError\u001b[0m                                 Traceback (most recent call last)",
      "\u001b[1;32m~\\AppData\\Local\\Temp/ipykernel_9700/1514925733.py\u001b[0m in \u001b[0;36m<module>\u001b[1;34m\u001b[0m\n\u001b[0;32m      1\u001b[0m \u001b[1;32mdef\u001b[0m \u001b[0mfoo\u001b[0m\u001b[1;33m(\u001b[0m\u001b[0marg\u001b[0m\u001b[1;33m,\u001b[0m \u001b[0mkwarg\u001b[0m\u001b[1;33m=\u001b[0m\u001b[1;32mNone\u001b[0m\u001b[1;33m,\u001b[0m \u001b[1;33m*\u001b[0m\u001b[1;33m,\u001b[0m \u001b[0mkwarg2\u001b[0m\u001b[1;33m=\u001b[0m\u001b[1;32mNone\u001b[0m\u001b[1;33m,\u001b[0m \u001b[1;33m**\u001b[0m\u001b[0mkwargs\u001b[0m\u001b[1;33m)\u001b[0m\u001b[1;33m:\u001b[0m\u001b[1;33m\u001b[0m\u001b[1;33m\u001b[0m\u001b[0m\n\u001b[0;32m      2\u001b[0m     \u001b[1;32mreturn\u001b[0m \u001b[0marg\u001b[0m\u001b[1;33m,\u001b[0m \u001b[0mkwarg\u001b[0m\u001b[1;33m,\u001b[0m \u001b[0mkwarg2\u001b[0m\u001b[1;33m,\u001b[0m \u001b[0mkwargs\u001b[0m\u001b[1;33m\u001b[0m\u001b[1;33m\u001b[0m\u001b[0m\n\u001b[1;32m----> 3\u001b[1;33m \u001b[0mfoo\u001b[0m\u001b[1;33m(\u001b[0m\u001b[1;36m1\u001b[0m\u001b[1;33m,\u001b[0m \u001b[1;36m2\u001b[0m\u001b[1;33m,\u001b[0m \u001b[1;36m3\u001b[0m\u001b[1;33m,\u001b[0m \u001b[1;36m4\u001b[0m\u001b[1;33m,\u001b[0m \u001b[1;36m5\u001b[0m\u001b[1;33m,\u001b[0m \u001b[0mkwarg2\u001b[0m\u001b[1;33m=\u001b[0m\u001b[1;34m'kwarg2'\u001b[0m\u001b[1;33m,\u001b[0m \u001b[0mfoo\u001b[0m\u001b[1;33m=\u001b[0m\u001b[1;34m'foo'\u001b[0m\u001b[1;33m,\u001b[0m \u001b[0mbar\u001b[0m\u001b[1;33m=\u001b[0m\u001b[1;34m'bar'\u001b[0m\u001b[1;33m)\u001b[0m\u001b[1;33m\u001b[0m\u001b[1;33m\u001b[0m\u001b[0m\n\u001b[0m",
      "\u001b[1;31mTypeError\u001b[0m: foo() takes from 1 to 2 positional arguments but 5 positional arguments (and 1 keyword-only argument) were given"
     ]
    }
   ],
   "source": [
    "def foo(arg, kwarg=None, *, kwarg2=None, **kwargs):\n",
    "    return arg, kwarg, kwarg2, kwargs\n",
    "foo(1, 2, 3, 4, 5, kwarg2='kwarg2', foo='foo', bar='bar')"
   ]
  },
  {
   "cell_type": "code",
   "execution_count": 21,
   "id": "6816639e",
   "metadata": {},
   "outputs": [
    {
     "data": {
      "text/plain": [
       "(1, 2, 'kwarg2', {'foo': 'foo', 'bar': 'bar'})"
      ]
     },
     "execution_count": 21,
     "metadata": {},
     "output_type": "execute_result"
    }
   ],
   "source": [
    "foo(1, 2, kwarg2='kwarg2', foo='foo', bar='bar')"
   ]
  },
  {
   "cell_type": "code",
   "execution_count": 23,
   "id": "9b04de48",
   "metadata": {},
   "outputs": [
    {
     "data": {
      "text/plain": [
       "(1, 'kwarg2', None, {'foo': 'foo', 'bar': 'bar'})"
      ]
     },
     "execution_count": 23,
     "metadata": {},
     "output_type": "execute_result"
    }
   ],
   "source": [
    "foo(1, 'kwarg2', foo='foo', bar='bar')"
   ]
  },
  {
   "cell_type": "code",
   "execution_count": 25,
   "id": "6f418e4a",
   "metadata": {},
   "outputs": [],
   "source": [
    "def bar(*, kwarg=None):\n",
    "    return kwarg"
   ]
  },
  {
   "cell_type": "code",
   "execution_count": 26,
   "id": "ce3e2fe1",
   "metadata": {},
   "outputs": [
    {
     "ename": "TypeError",
     "evalue": "bar() takes 0 positional arguments but 1 was given",
     "output_type": "error",
     "traceback": [
      "\u001b[1;31m---------------------------------------------------------------------------\u001b[0m",
      "\u001b[1;31mTypeError\u001b[0m                                 Traceback (most recent call last)",
      "\u001b[1;32m~\\AppData\\Local\\Temp/ipykernel_9700/2646006617.py\u001b[0m in \u001b[0;36m<module>\u001b[1;34m\u001b[0m\n\u001b[1;32m----> 1\u001b[1;33m \u001b[0mbar\u001b[0m\u001b[1;33m(\u001b[0m\u001b[1;34m'kwarg'\u001b[0m\u001b[1;33m)\u001b[0m\u001b[1;33m\u001b[0m\u001b[1;33m\u001b[0m\u001b[0m\n\u001b[0m",
      "\u001b[1;31mTypeError\u001b[0m: bar() takes 0 positional arguments but 1 was given"
     ]
    }
   ],
   "source": [
    "bar('kwarg')"
   ]
  },
  {
   "cell_type": "code",
   "execution_count": 27,
   "id": "146b57d9",
   "metadata": {},
   "outputs": [
    {
     "data": {
      "text/plain": [
       "'kwarg'"
      ]
     },
     "execution_count": 27,
     "metadata": {},
     "output_type": "execute_result"
    }
   ],
   "source": [
    "bar(kwarg='kwarg')"
   ]
  },
  {
   "cell_type": "code",
   "execution_count": 28,
   "id": "d740e994",
   "metadata": {},
   "outputs": [],
   "source": [
    "def foo(bar, lee):\n",
    "    return bar, lee"
   ]
  },
  {
   "cell_type": "code",
   "execution_count": 29,
   "id": "c3937feb",
   "metadata": {},
   "outputs": [
    {
     "data": {
      "text/plain": [
       "(1, 2)"
      ]
     },
     "execution_count": 29,
     "metadata": {},
     "output_type": "execute_result"
    }
   ],
   "source": [
    "foo(1, 2)"
   ]
  },
  {
   "cell_type": "code",
   "execution_count": 30,
   "id": "3a8dc28d",
   "metadata": {},
   "outputs": [
    {
     "data": {
      "text/plain": [
       "(1, 2)"
      ]
     },
     "execution_count": 30,
     "metadata": {},
     "output_type": "execute_result"
    }
   ],
   "source": [
    "foo(*[1, 2])"
   ]
  },
  {
   "cell_type": "code",
   "execution_count": 32,
   "id": "0dfb9fb3",
   "metadata": {},
   "outputs": [
    {
     "data": {
      "text/plain": [
       "(1, 2)"
      ]
     },
     "execution_count": 32,
     "metadata": {},
     "output_type": "execute_result"
    }
   ],
   "source": [
    "foo(**{'lee': 2, 'bar': 1})"
   ]
  },
  {
   "cell_type": "markdown",
   "id": "7db8e508",
   "metadata": {},
   "source": [
    "# Control flows\n",
    "## IF statement"
   ]
  },
  {
   "cell_type": "code",
   "execution_count": 52,
   "id": "cc0dfac0",
   "metadata": {},
   "outputs": [],
   "source": [
    "def checkFlag(flag):\n",
    "    return 'TRUE' if flag else 'FALSE'"
   ]
  },
  {
   "cell_type": "code",
   "execution_count": 53,
   "id": "3c548a85",
   "metadata": {},
   "outputs": [
    {
     "name": "stdout",
     "output_type": "stream",
     "text": [
      "TRUE\n",
      "FALSE\n"
     ]
    }
   ],
   "source": [
    "print(checkFlag(True))\n",
    "print(checkFlag(False))"
   ]
  },
  {
   "cell_type": "code",
   "execution_count": 59,
   "id": "b89d4b63",
   "metadata": {},
   "outputs": [],
   "source": [
    "def checkFlag(flag):\n",
    "    if isinstance(flag, bool) and flag == True:\n",
    "        return 'TRUE'\n",
    "    elif isinstance(flag, bool) and flag == False:\n",
    "        return 'FALSE'\n",
    "    elif isinstance(flag, str):\n",
    "        return flag.upper()\n",
    "    else:\n",
    "        return flag"
   ]
  },
  {
   "cell_type": "code",
   "execution_count": 60,
   "id": "5dd44767",
   "metadata": {},
   "outputs": [
    {
     "name": "stdout",
     "output_type": "stream",
     "text": [
      "TRUE\n",
      "FALSE\n",
      "ABC\n",
      "1234.345\n"
     ]
    }
   ],
   "source": [
    "print(checkFlag(True))\n",
    "print(checkFlag(False))\n",
    "print(checkFlag('abc'))\n",
    "print(checkFlag(1234.345))"
   ]
  },
  {
   "cell_type": "markdown",
   "id": "aa4d0704",
   "metadata": {},
   "source": [
    "## LOOPS\n",
    "* ### For loop"
   ]
  },
  {
   "cell_type": "code",
   "execution_count": 66,
   "id": "a4059d34",
   "metadata": {},
   "outputs": [
    {
     "name": "stdout",
     "output_type": "stream",
     "text": [
      "3 is a prime number\n",
      "4 equals 2 * 2\n",
      "5 is a prime number\n",
      "6 equals 2 * 3\n",
      "7 is a prime number\n",
      "8 equals 2 * 4\n",
      "9 equals 3 * 3\n",
      "10 equals 2 * 5\n",
      "11 is a prime number\n",
      "12 equals 2 * 6\n",
      "13 is a prime number\n",
      "14 equals 2 * 7\n",
      "15 equals 3 * 5\n",
      "16 equals 2 * 8\n",
      "17 is a prime number\n",
      "18 equals 2 * 9\n",
      "19 is a prime number\n"
     ]
    }
   ],
   "source": [
    "for n in range(3, 20):\n",
    "    for x in range(2, n):\n",
    "        if n % x == 0:\n",
    "            print(f'{n} equals {x} * {n // x}')\n",
    "            break\n",
    "    else: # this else clause belongs to for loop, not the if statement. End of for loop without finding factors\n",
    "        print(f'{n} is a prime number')"
   ]
  },
  {
   "cell_type": "markdown",
   "id": "e4f6da71",
   "metadata": {},
   "source": [
    "* ### While loop"
   ]
  },
  {
   "cell_type": "code",
   "execution_count": 68,
   "id": "48a661f8",
   "metadata": {
    "scrolled": true
   },
   "outputs": [
    {
     "name": "stdout",
     "output_type": "stream",
     "text": [
      "3 is a prime number\n",
      "4 equals 2 * 2\n",
      "5 is a prime number\n",
      "6 equals 2 * 3\n",
      "7 is a prime number\n",
      "8 equals 2 * 4\n",
      "9 equals 3 * 3\n",
      "10 equals 2 * 5\n",
      "11 is a prime number\n",
      "12 equals 2 * 6\n",
      "13 is a prime number\n",
      "14 equals 2 * 7\n",
      "15 equals 3 * 5\n",
      "16 equals 2 * 8\n",
      "17 is a prime number\n",
      "18 equals 2 * 9\n",
      "19 is a prime number\n"
     ]
    }
   ],
   "source": [
    "n = 3\n",
    "while n < 20:\n",
    "    x = 2\n",
    "    while x < n:\n",
    "        if n % x == 0:\n",
    "            print(f'{n} equals {x} * {n // x}')\n",
    "            break\n",
    "        x += 1\n",
    "    else: # this else clause belongs to while loop, not the if statement. End of while loop without finding factors\n",
    "        print(f'{n} is a prime number')\n",
    "    n += 1\n"
   ]
  },
  {
   "cell_type": "code",
   "execution_count": 71,
   "id": "001f6aa4",
   "metadata": {},
   "outputs": [
    {
     "name": "stdout",
     "output_type": "stream",
     "text": [
      "gallahad the pure\n",
      "robin the brave\n"
     ]
    }
   ],
   "source": [
    "knights = {\n",
    "    'gallahad': 'the pure',\n",
    "    'robin': 'the brave'\n",
    "}\n",
    "for k, v in knights.items():\n",
    "    print(k, v)"
   ]
  },
  {
   "cell_type": "code",
   "execution_count": 72,
   "id": "10483301",
   "metadata": {},
   "outputs": [
    {
     "name": "stdout",
     "output_type": "stream",
     "text": [
      "gallahad the pure\n",
      "robin the brave\n"
     ]
    }
   ],
   "source": [
    "for k in knights:\n",
    "    print(k, knights[k])"
   ]
  },
  {
   "cell_type": "code",
   "execution_count": 73,
   "id": "47ebb0b4",
   "metadata": {},
   "outputs": [
    {
     "name": "stdout",
     "output_type": "stream",
     "text": [
      "0 a\n",
      "1 b\n",
      "2 c\n",
      "3 d\n",
      "4 e\n",
      "5 f\n"
     ]
    }
   ],
   "source": [
    "for i, v in enumerate('abcdef'):\n",
    "    print(i, v)"
   ]
  },
  {
   "cell_type": "code",
   "execution_count": 76,
   "id": "19c72dca",
   "metadata": {},
   "outputs": [
    {
     "name": "stdout",
     "output_type": "stream",
     "text": [
      "apple\n",
      "banana\n",
      "orange\n",
      "pear\n"
     ]
    }
   ],
   "source": [
    "basket = ['apple', 'orange', 'apple', 'pear', 'orange', 'banana']\n",
    "for fruit in sorted(set(basket)):\n",
    "    print(fruit)"
   ]
  },
  {
   "cell_type": "code",
   "execution_count": 77,
   "id": "184e62c9",
   "metadata": {},
   "outputs": [
    {
     "name": "stdout",
     "output_type": "stream",
     "text": [
      "['apple', 'orange', 'apple', 'pear', 'orange', 'banana']\n"
     ]
    }
   ],
   "source": [
    "for fruit in basket:\n",
    "    fruit.upper()\n",
    "print(basket)"
   ]
  }
 ],
 "metadata": {
  "kernelspec": {
   "display_name": "Python 3 (ipykernel)",
   "language": "python",
   "name": "python3"
  },
  "language_info": {
   "codemirror_mode": {
    "name": "ipython",
    "version": 3
   },
   "file_extension": ".py",
   "mimetype": "text/x-python",
   "name": "python",
   "nbconvert_exporter": "python",
   "pygments_lexer": "ipython3",
   "version": "3.9.6"
  }
 },
 "nbformat": 4,
 "nbformat_minor": 5
}
