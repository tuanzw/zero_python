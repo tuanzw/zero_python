{
 "cells": [
  {
   "attachments": {},
   "cell_type": "markdown",
   "id": "0cf7f8be",
   "metadata": {},
   "source": [
    "# Decorator\n",
    "- Decorators are the functions that take another function as an argument, add some kinds of functionality and return the function without altering the function that was passed in\n",
    "- In the ```wrapper``` function, it must execute the ```original``` function and return what ```original``` function returns"
   ]
  },
  {
   "cell_type": "code",
   "execution_count": 7,
   "id": "0d81bf72",
   "metadata": {},
   "outputs": [
    {
     "name": "stdout",
     "output_type": "stream",
     "text": [
      "display() func ran\n"
     ]
    }
   ],
   "source": [
    "def decorator_function(original_func):\n",
    "    def wrapper_func():\n",
    "        return original_func()\n",
    "    return wrapper_func\n",
    "\n",
    "def display():\n",
    "    print('display() func ran')\n",
    "\n",
    "dec = decorator_function(display)\n",
    "dec()"
   ]
  },
  {
   "cell_type": "code",
   "execution_count": 11,
   "id": "98e59c6c",
   "metadata": {},
   "outputs": [
    {
     "name": "stdout",
     "output_type": "stream",
     "text": [
      "(<cell at 0x000001A1C257A970: function object at 0x000001A1C26560D0>,)\n",
      "<function display at 0x000001A1C26560D0>\n"
     ]
    }
   ],
   "source": [
    "print(dec.__closure__)\n",
    "print(dec.__closure__[0].cell_contents)"
   ]
  },
  {
   "cell_type": "code",
   "execution_count": 12,
   "id": "ea941b39",
   "metadata": {},
   "outputs": [
    {
     "name": "stdout",
     "output_type": "stream",
     "text": [
      "display() func ran\n"
     ]
    }
   ],
   "source": [
    "dec.__closure__[0].cell_contents()"
   ]
  },
  {
   "cell_type": "code",
   "execution_count": 13,
   "id": "896adc6a",
   "metadata": {},
   "outputs": [
    {
     "name": "stdout",
     "output_type": "stream",
     "text": [
      "  3           0 LOAD_DEREF               0 (original_func)\n",
      "              2 CALL_FUNCTION            0\n",
      "              4 RETURN_VALUE\n"
     ]
    }
   ],
   "source": [
    "import dis\n",
    "dis.dis(dec)"
   ]
  },
  {
   "attachments": {},
   "cell_type": "markdown",
   "id": "f5a9ffec",
   "metadata": {},
   "source": [
    "- The syntax ```@decorator_function_name``` is added on the line before the function header will applied the decorator function"
   ]
  },
  {
   "cell_type": "code",
   "execution_count": 14,
   "id": "6d1365ac",
   "metadata": {},
   "outputs": [
    {
     "name": "stdout",
     "output_type": "stream",
     "text": [
      "display() func ran\n"
     ]
    }
   ],
   "source": [
    "@decorator_function\n",
    "def display():\n",
    "    print('display() func ran')\n",
    "\n",
    "display()"
   ]
  },
  {
   "attachments": {},
   "cell_type": "markdown",
   "id": "090c17b0",
   "metadata": {},
   "source": [
    "- Adding some functionality to alter the ```original``` function inside the ```wrapper_function```"
   ]
  },
  {
   "cell_type": "code",
   "execution_count": 36,
   "id": "85fa4208",
   "metadata": {},
   "outputs": [
    {
     "name": "stdout",
     "output_type": "stream",
     "text": [
      "wrapper function executes this before display\n",
      "display() func ran\n"
     ]
    }
   ],
   "source": [
    "def decorator_function(original_func):\n",
    "    def wrapper_func():\n",
    "        print(f'wrapper function executes this before {original_func.__name__}')\n",
    "        return original_func()\n",
    "    return wrapper_func\n",
    "\n",
    "@decorator_function\n",
    "def display():\n",
    "    print('display() func ran')\n",
    "    \n",
    "display()"
   ]
  },
  {
   "cell_type": "code",
   "execution_count": 20,
   "id": "5ee01490",
   "metadata": {},
   "outputs": [
    {
     "ename": "TypeError",
     "evalue": "wrapper_func() takes 0 positional arguments but 2 were given",
     "output_type": "error",
     "traceback": [
      "\u001b[1;31m---------------------------------------------------------------------------\u001b[0m",
      "\u001b[1;31mTypeError\u001b[0m                                 Traceback (most recent call last)",
      "\u001b[1;32m~\\AppData\\Local\\Temp/ipykernel_28120/2685234787.py\u001b[0m in \u001b[0;36m<module>\u001b[1;34m\u001b[0m\n\u001b[0;32m      3\u001b[0m     \u001b[0mprint\u001b[0m\u001b[1;33m(\u001b[0m\u001b[1;34mf'display() function ran with arguments name={name}, age={age}'\u001b[0m\u001b[1;33m)\u001b[0m\u001b[1;33m\u001b[0m\u001b[1;33m\u001b[0m\u001b[0m\n\u001b[0;32m      4\u001b[0m \u001b[1;33m\u001b[0m\u001b[0m\n\u001b[1;32m----> 5\u001b[1;33m \u001b[0mdisplay_info\u001b[0m\u001b[1;33m(\u001b[0m\u001b[1;34m'tuan'\u001b[0m\u001b[1;33m,\u001b[0m \u001b[1;36m30\u001b[0m\u001b[1;33m)\u001b[0m\u001b[1;33m\u001b[0m\u001b[1;33m\u001b[0m\u001b[0m\n\u001b[0m",
      "\u001b[1;31mTypeError\u001b[0m: wrapper_func() takes 0 positional arguments but 2 were given"
     ]
    }
   ],
   "source": [
    "@decorator_function\n",
    "def display_info(name, age):\n",
    "    print(f'display() function ran with arguments name={name}, age={age}')\n",
    "\n",
    "display_info('tuan', 30)"
   ]
  },
  {
   "attachments": {},
   "cell_type": "markdown",
   "id": "e94a59e3",
   "metadata": {},
   "source": [
    "- ```wrapper_function()``` takes 0 positional arguments but 2 were given because 2 arguments ```(name, age)``` were passed to the ```display_info()``` function while the definition of ```wrapper_function()``` takes 0 argument\n",
    "- Adding ```*args, **kwargs to wrapper_function()``` definition to accept any positional arguments and keyword arguments"
   ]
  },
  {
   "cell_type": "code",
   "execution_count": 31,
   "id": "c451ed33",
   "metadata": {},
   "outputs": [
    {
     "name": "stdout",
     "output_type": "stream",
     "text": [
      "wrapper function executes this before display_info\n",
      "display_info() function ran with arguments name=tuan, age=30\n"
     ]
    }
   ],
   "source": [
    "def decorator_function(original_func):\n",
    "    def wrapper_func(*args, **kwargs):\n",
    "        print(f'wrapper function executes this before {original_func.__name__}')\n",
    "        return original_func(*args, **kwargs)\n",
    "    return wrapper_func\n",
    "\n",
    "@decorator_function\n",
    "def display_info(name, age):\n",
    "    '''Display info, takes argument: name & age\n",
    "    Return: None\n",
    "    '''\n",
    "    print(f'display_info() function ran with arguments name={name}, age={age}')\n",
    "\n",
    "display_info('tuan', 30)"
   ]
  },
  {
   "cell_type": "code",
   "execution_count": 26,
   "id": "2f65ceb9",
   "metadata": {},
   "outputs": [
    {
     "data": {
      "text/plain": [
       "<function __main__.decorator_function.<locals>.wrapper_func(*args, **kwargs)>"
      ]
     },
     "execution_count": 26,
     "metadata": {},
     "output_type": "execute_result"
    }
   ],
   "source": [
    "display_info"
   ]
  },
  {
   "cell_type": "code",
   "execution_count": 27,
   "id": "52c75378",
   "metadata": {},
   "outputs": [
    {
     "data": {
      "text/plain": [
       "<function __main__.display_info(name, age)>"
      ]
     },
     "execution_count": 27,
     "metadata": {},
     "output_type": "execute_result"
    }
   ],
   "source": [
    "display_info.__closure__[0].cell_contents"
   ]
  },
  {
   "cell_type": "code",
   "execution_count": 28,
   "id": "ee4c69a2",
   "metadata": {},
   "outputs": [
    {
     "name": "stdout",
     "output_type": "stream",
     "text": [
      "display_info() function ran with arguments name=tuan, age=30\n"
     ]
    }
   ],
   "source": [
    "display_info.__closure__[0].cell_contents('tuan', 30)"
   ]
  },
  {
   "cell_type": "code",
   "execution_count": 29,
   "id": "a4c12b79",
   "metadata": {},
   "outputs": [
    {
     "name": "stdout",
     "output_type": "stream",
     "text": [
      "  3           0 LOAD_GLOBAL              0 (print)\n",
      "              2 LOAD_CONST               1 ('wrapper function executes this before ')\n",
      "              4 LOAD_DEREF               0 (original_func)\n",
      "              6 LOAD_ATTR                1 (__name__)\n",
      "              8 FORMAT_VALUE             0\n",
      "             10 BUILD_STRING             2\n",
      "             12 CALL_FUNCTION            1\n",
      "             14 POP_TOP\n",
      "\n",
      "  4          16 LOAD_DEREF               0 (original_func)\n",
      "             18 LOAD_FAST                0 (args)\n",
      "             20 BUILD_MAP                0\n",
      "             22 LOAD_FAST                1 (kwargs)\n",
      "             24 DICT_MERGE               1\n",
      "             26 CALL_FUNCTION_EX         1\n",
      "             28 RETURN_VALUE\n"
     ]
    }
   ],
   "source": [
    "dis.dis(display_info)"
   ]
  },
  {
   "cell_type": "code",
   "execution_count": 30,
   "id": "2e15d7d2",
   "metadata": {},
   "outputs": [
    {
     "name": "stdout",
     "output_type": "stream",
     "text": [
      "  2           0 LOAD_CLOSURE             0 (original_func)\n",
      "              2 BUILD_TUPLE              1\n",
      "              4 LOAD_CONST               1 (<code object wrapper_func at 0x000001A1C26623A0, file \"C:\\Users\\nmtuan\\AppData\\Local\\Temp/ipykernel_28120/3752065882.py\", line 2>)\n",
      "              6 LOAD_CONST               2 ('decorator_function.<locals>.wrapper_func')\n",
      "              8 MAKE_FUNCTION            8 (closure)\n",
      "             10 STORE_FAST               1 (wrapper_func)\n",
      "\n",
      "  5          12 LOAD_FAST                1 (wrapper_func)\n",
      "             14 RETURN_VALUE\n",
      "\n",
      "Disassembly of <code object wrapper_func at 0x000001A1C26623A0, file \"C:\\Users\\nmtuan\\AppData\\Local\\Temp/ipykernel_28120/3752065882.py\", line 2>:\n",
      "  3           0 LOAD_GLOBAL              0 (print)\n",
      "              2 LOAD_CONST               1 ('wrapper function executes this before ')\n",
      "              4 LOAD_DEREF               0 (original_func)\n",
      "              6 LOAD_ATTR                1 (__name__)\n",
      "              8 FORMAT_VALUE             0\n",
      "             10 BUILD_STRING             2\n",
      "             12 CALL_FUNCTION            1\n",
      "             14 POP_TOP\n",
      "\n",
      "  4          16 LOAD_DEREF               0 (original_func)\n",
      "             18 LOAD_FAST                0 (args)\n",
      "             20 BUILD_MAP                0\n",
      "             22 LOAD_FAST                1 (kwargs)\n",
      "             24 DICT_MERGE               1\n",
      "             26 CALL_FUNCTION_EX         1\n",
      "             28 RETURN_VALUE\n"
     ]
    }
   ],
   "source": [
    "dis.dis(decorator_function)"
   ]
  },
  {
   "cell_type": "code",
   "execution_count": 34,
   "id": "1896c7b7",
   "metadata": {},
   "outputs": [
    {
     "name": "stdout",
     "output_type": "stream",
     "text": [
      "None\n",
      "wrapper_func\n"
     ]
    }
   ],
   "source": [
    "print(display_info.__doc__)\n",
    "print(display_info.__name__)"
   ]
  },
  {
   "attachments": {},
   "cell_type": "markdown",
   "id": "156708b1",
   "metadata": {},
   "source": [
    "- Decorator doesn’t keep the ```original``` function metadata\n",
    "- Python provides functools module to support for keeping the ```original``` function metadata\n",
    "- Adding ```@wraps(original_function) before any wrapper``` functions in the decorator to keep ```original``` function metadata"
   ]
  },
  {
   "cell_type": "code",
   "execution_count": 37,
   "id": "c99d9b50",
   "metadata": {},
   "outputs": [
    {
     "name": "stdout",
     "output_type": "stream",
     "text": [
      "wrapper function executes this before display_info\n",
      "display_info() function ran with arguments name=tuan, age=30\n"
     ]
    }
   ],
   "source": [
    "from functools import wraps\n",
    "\n",
    "def decorator_function(original_func):\n",
    "    \n",
    "    @wraps(original_func)\n",
    "    def wrapper_func(*args, **kwargs):\n",
    "        print(f'wrapper function executes this before {original_func.__name__}')\n",
    "        return original_func(*args, **kwargs)\n",
    "    return wrapper_func\n",
    "\n",
    "@decorator_function\n",
    "def display():\n",
    "    '''Display take no argument. Returns None'''\n",
    "    print('display() func ran')\n",
    "\n",
    "@decorator_function\n",
    "def display_info(name, age):\n",
    "    '''Display info, takes argument: name & age\n",
    "    Return: None\n",
    "    '''\n",
    "    print(f'display_info() function ran with arguments name={name}, age={age}')\n",
    "\n",
    "display_info('tuan', 30)"
   ]
  },
  {
   "cell_type": "code",
   "execution_count": 38,
   "id": "3430396f",
   "metadata": {},
   "outputs": [
    {
     "data": {
      "text/plain": [
       "'display_info'"
      ]
     },
     "execution_count": 38,
     "metadata": {},
     "output_type": "execute_result"
    }
   ],
   "source": [
    "display_info.__name__"
   ]
  },
  {
   "cell_type": "code",
   "execution_count": 40,
   "id": "e500532b",
   "metadata": {},
   "outputs": [
    {
     "name": "stdout",
     "output_type": "stream",
     "text": [
      "Display info, takes argument: name & age\n",
      "    Return: None\n",
      "    \n"
     ]
    }
   ],
   "source": [
    "print(display_info.__doc__)"
   ]
  },
  {
   "attachments": {},
   "cell_type": "markdown",
   "id": "f431595c",
   "metadata": {},
   "source": [
    "## Class decorator\n",
    "- Class decorator will play the same role as function decorator\n",
    "- The ```__init__()``` method will map the ```original``` function to the instance of the class decorator\n",
    "- The ```__call__()``` method will act the same as ```wrapper``` function()"
   ]
  },
  {
   "cell_type": "code",
   "execution_count": 57,
   "id": "3d22658b",
   "metadata": {},
   "outputs": [
    {
     "name": "stdout",
     "output_type": "stream",
     "text": [
      "call() method executes this before display_info\n",
      "display_info() function ran with arguments name=tuan, age=30\n"
     ]
    }
   ],
   "source": [
    "class decorator_class():\n",
    "    def __init__(self, orig_func):\n",
    "        self.original_function = orig_func\n",
    "    \n",
    "    def __call__(self, *args, **kwargs):\n",
    "        print(f'call() method executes this before {self.original_function.__name__}')\n",
    "        return self.original_function(*args, **kwargs)\n",
    "    \n",
    "@decorator_class\n",
    "def display():\n",
    "    '''Display take no argument. Returns None'''\n",
    "    print('display() func ran')\n",
    "\n",
    "@decorator_class\n",
    "def display_info(name, age):\n",
    "    '''Display info, takes argument: name & age\n",
    "    Return: None\n",
    "    '''\n",
    "    print(f'display_info() function ran with arguments name={name}, age={age}')\n",
    "\n",
    "display_info('tuan', 30)"
   ]
  },
  {
   "cell_type": "code",
   "execution_count": 58,
   "id": "60ca1f01",
   "metadata": {},
   "outputs": [
    {
     "name": "stdout",
     "output_type": "stream",
     "text": [
      "None\n"
     ]
    },
    {
     "ename": "AttributeError",
     "evalue": "'decorator_class' object has no attribute '__name__'",
     "output_type": "error",
     "traceback": [
      "\u001b[1;31m---------------------------------------------------------------------------\u001b[0m",
      "\u001b[1;31mAttributeError\u001b[0m                            Traceback (most recent call last)",
      "\u001b[1;32m~\\AppData\\Local\\Temp/ipykernel_28120/1064954437.py\u001b[0m in \u001b[0;36m<module>\u001b[1;34m\u001b[0m\n\u001b[0;32m      1\u001b[0m \u001b[0mprint\u001b[0m\u001b[1;33m(\u001b[0m\u001b[0mdisplay_info\u001b[0m\u001b[1;33m.\u001b[0m\u001b[0m__doc__\u001b[0m\u001b[1;33m)\u001b[0m\u001b[1;33m\u001b[0m\u001b[1;33m\u001b[0m\u001b[0m\n\u001b[1;32m----> 2\u001b[1;33m \u001b[0mprint\u001b[0m\u001b[1;33m(\u001b[0m\u001b[0mdisplay_info\u001b[0m\u001b[1;33m.\u001b[0m\u001b[0m__name__\u001b[0m\u001b[1;33m)\u001b[0m\u001b[1;33m\u001b[0m\u001b[1;33m\u001b[0m\u001b[0m\n\u001b[0m",
      "\u001b[1;31mAttributeError\u001b[0m: 'decorator_class' object has no attribute '__name__'"
     ]
    }
   ],
   "source": [
    "print(display_info.__doc__)\n",
    "print(display_info.__name__)"
   ]
  },
  {
   "cell_type": "code",
   "execution_count": 52,
   "id": "1f8cc74a",
   "metadata": {},
   "outputs": [
    {
     "name": "stdout",
     "output_type": "stream",
     "text": [
      "call() method executes this before display_info\n",
      "display_info() function ran with arguments name=tuan, age=30\n"
     ]
    }
   ],
   "source": [
    "from functools import wraps, update_wrapper\n",
    "\n",
    "class decorator_class():\n",
    "    def __init__(self, orig_func):\n",
    "        self.original_function = orig_func\n",
    "        update_wrapper(self, orig_func)\n",
    "    \n",
    "    def __call__(self, *args, **kwargs):\n",
    "        print(f'call() method executes this before {self.original_function.__name__}')\n",
    "        return self.original_function(*args, **kwargs)\n",
    "    \n",
    "@decorator_class\n",
    "def display():\n",
    "    '''Display take no argument. Returns None'''\n",
    "    print('display() func ran')\n",
    "\n",
    "@decorator_class\n",
    "def display_info(name, age):\n",
    "    '''Display info, takes argument: name & age\n",
    "    Return: None\n",
    "    '''\n",
    "    print(f'display_info() function ran with arguments name={name}, age={age}')\n",
    "\n",
    "display_info('tuan', 30)"
   ]
  },
  {
   "cell_type": "code",
   "execution_count": 56,
   "id": "1588cc3e",
   "metadata": {},
   "outputs": [
    {
     "name": "stdout",
     "output_type": "stream",
     "text": [
      "Display info, takes argument: name & age\n",
      "    Return: None\n",
      "    \n",
      "display_info\n"
     ]
    }
   ],
   "source": [
    "print(display_info.__doc__)\n",
    "print(display_info.__name__)"
   ]
  }
 ],
 "metadata": {
  "kernelspec": {
   "display_name": "Python 3 (ipykernel)",
   "language": "python",
   "name": "python3"
  },
  "language_info": {
   "codemirror_mode": {
    "name": "ipython",
    "version": 3
   },
   "file_extension": ".py",
   "mimetype": "text/x-python",
   "name": "python",
   "nbconvert_exporter": "python",
   "pygments_lexer": "ipython3",
   "version": "3.9.6"
  }
 },
 "nbformat": 4,
 "nbformat_minor": 5
}
