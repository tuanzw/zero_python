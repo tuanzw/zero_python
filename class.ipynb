{
 "cells": [
  {
   "cell_type": "markdown",
   "id": "2291d704",
   "metadata": {},
   "source": [
    "# Class"
   ]
  },
  {
   "cell_type": "code",
   "execution_count": 15,
   "id": "1456b44e",
   "metadata": {},
   "outputs": [],
   "source": [
    "class Employee:\n",
    "    pass"
   ]
  },
  {
   "cell_type": "code",
   "execution_count": 19,
   "id": "44db7157",
   "metadata": {},
   "outputs": [
    {
     "name": "stdout",
     "output_type": "stream",
     "text": [
      "<__main__.Employee object at 0x0000026FB0C74340>\n",
      "['__class__', '__delattr__', '__dict__', '__dir__', '__doc__', '__eq__', '__format__', '__ge__', '__getattribute__', '__gt__', '__hash__', '__init__', '__init_subclass__', '__le__', '__lt__', '__module__', '__ne__', '__new__', '__reduce__', '__reduce_ex__', '__repr__', '__setattr__', '__sizeof__', '__str__', '__subclasshook__', '__weakref__']\n"
     ]
    }
   ],
   "source": [
    "emp1 = Employee()\n",
    "print(emp1)\n",
    "print(dir(emp1))"
   ]
  },
  {
   "cell_type": "markdown",
   "id": "22e17837",
   "metadata": {},
   "source": [
    "- Instance variables"
   ]
  },
  {
   "cell_type": "code",
   "execution_count": 20,
   "id": "77907227",
   "metadata": {},
   "outputs": [
    {
     "name": "stdout",
     "output_type": "stream",
     "text": [
      "['__class__', '__delattr__', '__dict__', '__dir__', '__doc__', '__eq__', '__format__', '__ge__', '__getattribute__', '__gt__', '__hash__', '__init__', '__init_subclass__', '__le__', '__lt__', '__module__', '__ne__', '__new__', '__reduce__', '__reduce_ex__', '__repr__', '__setattr__', '__sizeof__', '__str__', '__subclasshook__', '__weakref__', 'email', 'firstname', 'lastname']\n"
     ]
    }
   ],
   "source": [
    "emp1.firstname = 'tuan'\n",
    "emp1.lastname = 'nguyen'\n",
    "emp1.email = f'{emp1.firstname}.{emp1.lastname}@gmail.com'\n",
    "print(dir(emp1))"
   ]
  },
  {
   "cell_type": "code",
   "execution_count": 21,
   "id": "24e8c940",
   "metadata": {},
   "outputs": [
    {
     "data": {
      "text/plain": [
       "'tuan.nguyen@gmail.com'"
      ]
     },
     "execution_count": 21,
     "metadata": {},
     "output_type": "execute_result"
    }
   ],
   "source": [
    "emp1.email"
   ]
  },
  {
   "cell_type": "code",
   "execution_count": 23,
   "id": "1ff45271",
   "metadata": {},
   "outputs": [
    {
     "ename": "AttributeError",
     "evalue": "'Employee' object has no attribute 'email'",
     "output_type": "error",
     "traceback": [
      "\u001b[1;31m---------------------------------------------------------------------------\u001b[0m",
      "\u001b[1;31mAttributeError\u001b[0m                            Traceback (most recent call last)",
      "\u001b[1;32m~\\AppData\\Local\\Temp/ipykernel_10692/2063133189.py\u001b[0m in \u001b[0;36m<module>\u001b[1;34m\u001b[0m\n\u001b[0;32m      1\u001b[0m \u001b[0memp2\u001b[0m \u001b[1;33m=\u001b[0m \u001b[0mEmployee\u001b[0m\u001b[1;33m(\u001b[0m\u001b[1;33m)\u001b[0m\u001b[1;33m\u001b[0m\u001b[1;33m\u001b[0m\u001b[0m\n\u001b[1;32m----> 2\u001b[1;33m \u001b[0memp2\u001b[0m\u001b[1;33m.\u001b[0m\u001b[0memail\u001b[0m\u001b[1;33m\u001b[0m\u001b[1;33m\u001b[0m\u001b[0m\n\u001b[0m",
      "\u001b[1;31mAttributeError\u001b[0m: 'Employee' object has no attribute 'email'"
     ]
    }
   ],
   "source": [
    "emp2 = Employee()\n",
    "emp2.email"
   ]
  },
  {
   "attachments": {},
   "cell_type": "markdown",
   "id": "adc6a093",
   "metadata": {},
   "source": [
    "- The ```__init__()``` method is called immediately after an instance of the class is created, looks like a C++ constructor\n",
    "- The first argument of every instance method, including the ```__init__()``` method, is always a reference to the current instance of the class. By convention, it is named ```self```\n",
    "- Do not forget to add ```self``` as the first argument of every instance method\n",
    "- Python automatically passes it to the method"
   ]
  },
  {
   "cell_type": "code",
   "execution_count": 35,
   "id": "bc5b0664",
   "metadata": {},
   "outputs": [],
   "source": [
    "class Employee:\n",
    "    def __init__(self, first, last, pay):\n",
    "        self.first = first\n",
    "        self.last = last\n",
    "        self.pay = pay\n",
    "        self.email = f'{first}.{last}@gmail.com'\n",
    "    \n",
    "    def fullname():\n",
    "        return f'{self.first} {self.last}'\n"
   ]
  },
  {
   "cell_type": "code",
   "execution_count": 37,
   "id": "cdece5a7",
   "metadata": {},
   "outputs": [
    {
     "name": "stdout",
     "output_type": "stream",
     "text": [
      "tuan.nguyen@gmail.com\n",
      "['__class__', '__delattr__', '__dict__', '__dir__', '__doc__', '__eq__', '__format__', '__ge__', '__getattribute__', '__gt__', '__hash__', '__init__', '__init_subclass__', '__le__', '__lt__', '__module__', '__ne__', '__new__', '__reduce__', '__reduce_ex__', '__repr__', '__setattr__', '__sizeof__', '__str__', '__subclasshook__', '__weakref__', 'email', 'first', 'fullname', 'last', 'pay']\n"
     ]
    }
   ],
   "source": [
    "emp1 = Employee('tuan', 'nguyen', '5000')\n",
    "print(emp1.email)\n",
    "print(dir(emp1))"
   ]
  },
  {
   "cell_type": "code",
   "execution_count": 38,
   "id": "f81161c2",
   "metadata": {},
   "outputs": [
    {
     "ename": "TypeError",
     "evalue": "fullname() takes 0 positional arguments but 1 was given",
     "output_type": "error",
     "traceback": [
      "\u001b[1;31m---------------------------------------------------------------------------\u001b[0m",
      "\u001b[1;31mTypeError\u001b[0m                                 Traceback (most recent call last)",
      "\u001b[1;32m~\\AppData\\Local\\Temp/ipykernel_10692/2607054453.py\u001b[0m in \u001b[0;36m<module>\u001b[1;34m\u001b[0m\n\u001b[1;32m----> 1\u001b[1;33m \u001b[0memp1\u001b[0m\u001b[1;33m.\u001b[0m\u001b[0mfullname\u001b[0m\u001b[1;33m(\u001b[0m\u001b[1;33m)\u001b[0m\u001b[1;33m\u001b[0m\u001b[1;33m\u001b[0m\u001b[0m\n\u001b[0m",
      "\u001b[1;31mTypeError\u001b[0m: fullname() takes 0 positional arguments but 1 was given"
     ]
    }
   ],
   "source": [
    "emp1.fullname()"
   ]
  },
  {
   "cell_type": "code",
   "execution_count": 41,
   "id": "b074dde1",
   "metadata": {},
   "outputs": [
    {
     "name": "stdout",
     "output_type": "stream",
     "text": [
      "tuan.nguyen@gmail.com\n",
      "['__class__', '__delattr__', '__dict__', '__dir__', '__doc__', '__eq__', '__format__', '__ge__', '__getattribute__', '__gt__', '__hash__', '__init__', '__init_subclass__', '__le__', '__lt__', '__module__', '__ne__', '__new__', '__reduce__', '__reduce_ex__', '__repr__', '__setattr__', '__sizeof__', '__str__', '__subclasshook__', '__weakref__', 'email', 'first', 'fullname', 'last', 'pay']\n"
     ]
    }
   ],
   "source": [
    "class Employee:\n",
    "    def __init__(self, first, last, pay):\n",
    "        self.first = first\n",
    "        self.last = last\n",
    "        self.pay = pay\n",
    "        self.email = f'{first}.{last}@gmail.com'\n",
    "    \n",
    "    def fullname(self):\n",
    "        return f'{self.first} {self.last}'\n",
    "emp1 = Employee('tuan', 'nguyen', '5000')\n",
    "print(emp1.email)\n",
    "print(dir(emp1))"
   ]
  },
  {
   "cell_type": "code",
   "execution_count": 42,
   "id": "6dddc072",
   "metadata": {},
   "outputs": [
    {
     "data": {
      "text/plain": [
       "'tuan.nguyen@gmail.com'"
      ]
     },
     "execution_count": 42,
     "metadata": {},
     "output_type": "execute_result"
    }
   ],
   "source": [
    "emp1.first = 'hung'\n",
    "emp1.email # email wont' be changed"
   ]
  },
  {
   "cell_type": "markdown",
   "id": "ddedf8e1",
   "metadata": {},
   "source": [
    "- Property decorator\n",
    "- Property setter"
   ]
  },
  {
   "cell_type": "code",
   "execution_count": 52,
   "id": "b9580ebf",
   "metadata": {},
   "outputs": [],
   "source": [
    "class Employee:\n",
    "    def __init__(self, first, last, pay):\n",
    "        self.first = first\n",
    "        self.last = last\n",
    "        self.pay = pay\n",
    "        self.email = f'{first}.{last}@gmail.com'\n",
    "    \n",
    "    @property\n",
    "    def fullname(self): # fullname becomes property, not a instance method as above\n",
    "        return f'{self.first} {self.last}'\n",
    "    \n",
    "    @fullname.setter\n",
    "    def fullname(self, name): # split firstname, lastname from fullname by ' '\n",
    "        self.first, self.last = name.split(' ')"
   ]
  },
  {
   "cell_type": "code",
   "execution_count": 49,
   "id": "b862ba20",
   "metadata": {},
   "outputs": [
    {
     "name": "stdout",
     "output_type": "stream",
     "text": [
      "tuan nguyen\n",
      "hung nguyen\n"
     ]
    }
   ],
   "source": [
    "emp = Employee('tuan', 'nguyen', 5000)\n",
    "print(emp.fullname)\n",
    "emp.first = 'hung'\n",
    "print(emp.fullname)"
   ]
  },
  {
   "cell_type": "code",
   "execution_count": 51,
   "id": "dfefe0b6",
   "metadata": {
    "scrolled": true
   },
   "outputs": [
    {
     "name": "stdout",
     "output_type": "stream",
     "text": [
      "khoa\n",
      "pham\n",
      "tuan.nguyen@gmail.com\n"
     ]
    }
   ],
   "source": [
    "emp.fullname = 'khoa pham'\n",
    "print(emp.first)\n",
    "print(emp.last)\n",
    "print(emp.email) # email won't be changed because lack of property decorator for it"
   ]
  },
  {
   "attachments": {},
   "cell_type": "markdown",
   "id": "062c09aa",
   "metadata": {},
   "source": [
    "## Class & Instance Variables\n",
    "- Changing the attribute’s value in one instance does not affect other instances. The instance will override the attribute\n",
    "- Changing the class variable value won’t affect the attribute that was overridden in the instance\n",
    "- ```instance.__class__.attribute``` can be used to access class attribute"
   ]
  },
  {
   "cell_type": "code",
   "execution_count": 90,
   "id": "f4c3c77b",
   "metadata": {},
   "outputs": [
    {
     "data": {
      "text/plain": [
       "'tuan.nguyen@gmail.com'"
      ]
     },
     "execution_count": 90,
     "metadata": {},
     "output_type": "execute_result"
    }
   ],
   "source": [
    "class Employee:\n",
    "    raise_amount = 1.04 # class variable\n",
    "    num_of_emps = 0\n",
    "    def __init__(self, first, last, pay):\n",
    "        self.first, self.last, self.pay = first, last, pay # first, last, pay are instance variables\n",
    "        self.__class__.num_of_emps += 1 # increase total instance after creating new Employee instance\n",
    "    \n",
    "    @property\n",
    "    def email(self): # email is instance variable\n",
    "        return f'{self.first}.{self.last}@gmail.com'\n",
    "    \n",
    "    def apply_raise(self):\n",
    "        self.pay = self.pay * self.raise_amount\n",
    "\n",
    "emp = Employee('tuan', 'nguyen', 5000)\n",
    "emp.email"
   ]
  },
  {
   "cell_type": "code",
   "execution_count": 91,
   "id": "934fb690",
   "metadata": {},
   "outputs": [
    {
     "name": "stdout",
     "output_type": "stream",
     "text": [
      "5000\n",
      "5200.0\n",
      "{'first': 'tuan', 'last': 'nguyen', 'pay': 5200.0}\n"
     ]
    }
   ],
   "source": [
    "print(emp.pay)\n",
    "emp.apply_raise()\n",
    "print(emp.pay) #5000*1.04 = 5200\n",
    "print(emp.__dict__)"
   ]
  },
  {
   "cell_type": "code",
   "execution_count": 92,
   "id": "93c8251e",
   "metadata": {},
   "outputs": [
    {
     "name": "stdout",
     "output_type": "stream",
     "text": [
      "6240.0\n"
     ]
    }
   ],
   "source": [
    "emp.raise_amount = 1.2\n",
    "emp.apply_raise()\n",
    "print(emp.pay)"
   ]
  },
  {
   "cell_type": "code",
   "execution_count": 93,
   "id": "15c7af85",
   "metadata": {},
   "outputs": [
    {
     "name": "stdout",
     "output_type": "stream",
     "text": [
      "{'first': 'tuan', 'last': 'nguyen', 'pay': 6240.0, 'raise_amount': 1.2}\n"
     ]
    }
   ],
   "source": [
    "print(emp.__dict__)"
   ]
  },
  {
   "cell_type": "code",
   "execution_count": 94,
   "id": "ccbf40fb",
   "metadata": {},
   "outputs": [
    {
     "name": "stdout",
     "output_type": "stream",
     "text": [
      "{'__module__': '__main__', 'raise_amount': 1.04, 'num_of_emps': 1, '__init__': <function Employee.__init__ at 0x0000026FB0D87700>, 'email': <property object at 0x0000026FB0BCFBD0>, 'apply_raise': <function Employee.apply_raise at 0x0000026FB0D873A0>, '__dict__': <attribute '__dict__' of 'Employee' objects>, '__weakref__': <attribute '__weakref__' of 'Employee' objects>, '__doc__': None}\n"
     ]
    }
   ],
   "source": [
    "print(Employee.__dict__)"
   ]
  },
  {
   "cell_type": "code",
   "execution_count": 95,
   "id": "b3abff8c",
   "metadata": {},
   "outputs": [
    {
     "name": "stdout",
     "output_type": "stream",
     "text": [
      "1.04\n"
     ]
    }
   ],
   "source": [
    "print(Employee.raise_amount)"
   ]
  },
  {
   "cell_type": "code",
   "execution_count": 96,
   "id": "13344f04",
   "metadata": {},
   "outputs": [
    {
     "name": "stdout",
     "output_type": "stream",
     "text": [
      "overriden raise_amount of instance 1.2 won't be affect by changing class variable\n",
      "raise_amount of class 2.0\n"
     ]
    }
   ],
   "source": [
    "Employee.raise_amount = 2.0\n",
    "print(f'overriden raise_amount of instance {emp.raise_amount} won\\'t be affect by changing class variable' )\n",
    "print(f'raise_amount of class {emp.__class__.raise_amount}')"
   ]
  },
  {
   "cell_type": "code",
   "execution_count": 97,
   "id": "7e6b7cbf",
   "metadata": {},
   "outputs": [
    {
     "name": "stdout",
     "output_type": "stream",
     "text": [
      "2.0\n"
     ]
    }
   ],
   "source": [
    "emp2 = Employee('chris', 'booth', 600)\n",
    "print(emp2.raise_amount)"
   ]
  },
  {
   "cell_type": "code",
   "execution_count": 98,
   "id": "fc9632c9",
   "metadata": {},
   "outputs": [
    {
     "name": "stdout",
     "output_type": "stream",
     "text": [
      "2\n"
     ]
    }
   ],
   "source": [
    "print(Employee.num_of_emps)"
   ]
  },
  {
   "attachments": {},
   "cell_type": "markdown",
   "id": "2ca9e574",
   "metadata": {},
   "source": [
    "## Class method & Static method\n",
    "- A class method receives the Class as implicit first argument (```cls```), just like an instance method receives the instance. Using ```@classmethod``` decorator to declare a class method. Class methods are generally used to create factory methods. Factory methods return class objects ( similar to a constructor ) for different use cases\n",
    "- A static method receives neither the Class nor instance (```cls or self```)as its arguments. Using ```@staticmethod``` decorator to declare a static method. Static methods are generally used to create utility functions"
   ]
  },
  {
   "cell_type": "code",
   "execution_count": 102,
   "id": "dcae4009",
   "metadata": {},
   "outputs": [],
   "source": [
    "class Employee:\n",
    "    raise_amount = 1.04 # class variable\n",
    "    num_of_emps = 0\n",
    "    def __init__(self, first, last, pay):\n",
    "        self.first, self.last, self.pay = first, last, pay # first, last, pay are instance variables\n",
    "        self.__class__.num_of_emps += 1 # increase total instance after creating new Employee instance\n",
    "    \n",
    "    @property\n",
    "    def email(self): # email is instance variable\n",
    "        return f'{self.first}.{self.last}@gmail.com'\n",
    "    \n",
    "    def apply_raise(self):\n",
    "        self.pay = self.pay * self.raise_amount\n",
    "        \n",
    "    @classmethod\n",
    "    def set_raise_amount(cls, raise_amount):\n",
    "        cls.raise_amount = raise_amount\n",
    "    \n",
    "    @classmethod\n",
    "    def from_string(cls, emp_str):# tuan-nguyen-5000\n",
    "        first, last, pay = emp_str.split('-')\n",
    "        return cls(first, last, pay)\n",
    "    \n",
    "    @staticmethod\n",
    "    def isWorkDay(day):\n",
    "        if day.weekday() == 5 or day.weekday() == 6:\n",
    "            return False\n",
    "        return True"
   ]
  },
  {
   "cell_type": "code",
   "execution_count": 103,
   "id": "5fecd5af",
   "metadata": {},
   "outputs": [
    {
     "name": "stdout",
     "output_type": "stream",
     "text": [
      "1.04 1.04\n",
      "2.0 2.0\n"
     ]
    }
   ],
   "source": [
    "e1 = Employee('tuan', 'ng', 5000)\n",
    "e2 = Employee('khoa', 'ph', 6000)\n",
    "print(e1.raise_amount, e2.raise_amount)\n",
    "Employee.set_raise_amount(2.0)\n",
    "print(e1.raise_amount, e2.raise_amount)"
   ]
  },
  {
   "cell_type": "code",
   "execution_count": 104,
   "id": "68ad546c",
   "metadata": {},
   "outputs": [
    {
     "name": "stdout",
     "output_type": "stream",
     "text": [
      "duc ho 2.0\n"
     ]
    }
   ],
   "source": [
    "e3 = Employee.from_string('duc-ho-4200')\n",
    "print(e3.first, e3.last, e3.raise_amount)"
   ]
  },
  {
   "cell_type": "code",
   "execution_count": 106,
   "id": "4500056d",
   "metadata": {},
   "outputs": [
    {
     "name": "stdout",
     "output_type": "stream",
     "text": [
      "True\n"
     ]
    }
   ],
   "source": [
    "from datetime import date\n",
    "print(Employee.isWorkDay(date(2021, 8, 19)))"
   ]
  },
  {
   "cell_type": "markdown",
   "id": "d09150fe",
   "metadata": {},
   "source": [
    "## Inheritance"
   ]
  },
  {
   "cell_type": "code",
   "execution_count": 107,
   "id": "06af8cb6",
   "metadata": {},
   "outputs": [],
   "source": [
    "class Developer(Employee):\n",
    "    def __init__(self, first, last, pay, prog_lang):\n",
    "        super().__init__(first, last, pay)\n",
    "        self.prog_lang = prog_lang\n"
   ]
  },
  {
   "cell_type": "code",
   "execution_count": 110,
   "id": "e1b6214d",
   "metadata": {},
   "outputs": [
    {
     "data": {
      "text/plain": [
       "'tuan.ng@gmail.com'"
      ]
     },
     "execution_count": 110,
     "metadata": {},
     "output_type": "execute_result"
    }
   ],
   "source": [
    "dev = Developer('tuan', 'ng', 5000, 'Python')\n",
    "dev.email"
   ]
  },
  {
   "cell_type": "code",
   "execution_count": 112,
   "id": "6c284d11",
   "metadata": {},
   "outputs": [
    {
     "data": {
      "text/plain": [
       "'Python'"
      ]
     },
     "execution_count": 112,
     "metadata": {},
     "output_type": "execute_result"
    }
   ],
   "source": [
    "dev.prog_lang"
   ]
  },
  {
   "cell_type": "code",
   "execution_count": 113,
   "id": "6af433a9",
   "metadata": {},
   "outputs": [
    {
     "name": "stdout",
     "output_type": "stream",
     "text": [
      "Help on Developer in module __main__ object:\n",
      "\n",
      "class Developer(Employee)\n",
      " |  Developer(first, last, pay, prog_lang)\n",
      " |  \n",
      " |  Method resolution order:\n",
      " |      Developer\n",
      " |      Employee\n",
      " |      builtins.object\n",
      " |  \n",
      " |  Methods defined here:\n",
      " |  \n",
      " |  __init__(self, first, last, pay, prog_lang)\n",
      " |      Initialize self.  See help(type(self)) for accurate signature.\n",
      " |  \n",
      " |  ----------------------------------------------------------------------\n",
      " |  Data and other attributes defined here:\n",
      " |  \n",
      " |  num_of_emps = 6\n",
      " |  \n",
      " |  ----------------------------------------------------------------------\n",
      " |  Methods inherited from Employee:\n",
      " |  \n",
      " |  apply_raise(self)\n",
      " |  \n",
      " |  ----------------------------------------------------------------------\n",
      " |  Class methods inherited from Employee:\n",
      " |  \n",
      " |  from_string(emp_str) from builtins.type\n",
      " |  \n",
      " |  set_raise_amount(raise_amount) from builtins.type\n",
      " |  \n",
      " |  ----------------------------------------------------------------------\n",
      " |  Static methods inherited from Employee:\n",
      " |  \n",
      " |  isWorkDay(day)\n",
      " |  \n",
      " |  ----------------------------------------------------------------------\n",
      " |  Readonly properties inherited from Employee:\n",
      " |  \n",
      " |  email\n",
      " |  \n",
      " |  ----------------------------------------------------------------------\n",
      " |  Data descriptors inherited from Employee:\n",
      " |  \n",
      " |  __dict__\n",
      " |      dictionary for instance variables (if defined)\n",
      " |  \n",
      " |  __weakref__\n",
      " |      list of weak references to the object (if defined)\n",
      " |  \n",
      " |  ----------------------------------------------------------------------\n",
      " |  Data and other attributes inherited from Employee:\n",
      " |  \n",
      " |  raise_amount = 2.0\n",
      "\n"
     ]
    }
   ],
   "source": [
    "help(dev)"
   ]
  },
  {
   "attachments": {},
   "cell_type": "markdown",
   "id": "b02debf8",
   "metadata": {},
   "source": [
    "### Multiple inheritance\n",
    "<img src=\"./images/multiple_inheritance.jpg\" width=400/>"
   ]
  },
  {
   "cell_type": "code",
   "execution_count": 117,
   "id": "83ec238d",
   "metadata": {},
   "outputs": [],
   "source": [
    "class DoughFactory():\n",
    "    def get_dough(self):\n",
    "        return 'insecticide treated wheat dough'\n",
    "\n",
    "class Pizza(DoughFactory):\n",
    "    def orderPizza(self, *toppings):\n",
    "        print('Getting dough')\n",
    "        dough = super().get_dough()\n",
    "        print(f'Making pie with {dough}')\n",
    "        for topping in toppings:\n",
    "            print(f'Adding {topping}')\n",
    "\n",
    "class OrganicDoughFactory(DoughFactory):\n",
    "    def get_dough(self):\n",
    "        return 'pure untreated wheat dough'\n",
    "\n",
    "class OrganicPizza(Pizza, OrganicDoughFactory):\n",
    "    pass"
   ]
  },
  {
   "cell_type": "code",
   "execution_count": 121,
   "id": "116ccf80",
   "metadata": {},
   "outputs": [
    {
     "name": "stdout",
     "output_type": "stream",
     "text": [
      "Getting dough\n",
      "Making pie with pure untreated wheat dough\n",
      "Adding Peppeproni\n",
      "Adding Bell Pepper\n"
     ]
    }
   ],
   "source": [
    "an_organic_pizza = OrganicPizza()\n",
    "an_organic_pizza.orderPizza('Peppeproni', 'Bell Pepper')"
   ]
  },
  {
   "attachments": {},
   "cell_type": "markdown",
   "id": "9c592eec",
   "metadata": {},
   "source": [
    "### MRO (Method Resolution Order) in multiple inheritance\n",
    "- Python uses Method Resolution Order to define the class search path to search for the right method to use in classes having multi-inheritance\n",
    "- The Method Resolution Order (MRO) is the set of rules that construct the linearization (__C3 linearization algorithm__). In the Python literature, the idiom ```the MRO of C``` is also used as a synonymous for the linearization of the class C\n",
    "- __```super()``` does not call your parents it calls the ancestors of your children__"
   ]
  },
  {
   "cell_type": "code",
   "execution_count": 125,
   "id": "87fb6400",
   "metadata": {},
   "outputs": [
    {
     "name": "stdout",
     "output_type": "stream",
     "text": [
      "I\n",
      "G\n",
      "C\n",
      "D\n",
      "H\n",
      "E\n",
      "F\n",
      "A\n",
      "B\n"
     ]
    },
    {
     "data": {
      "text/plain": [
       "<__main__.I at 0x26fb0da7190>"
      ]
     },
     "execution_count": 125,
     "metadata": {},
     "output_type": "execute_result"
    }
   ],
   "source": [
    "class A(object):\n",
    "    def __init__(self):\n",
    "        print('A')\n",
    "        super().__init__()\n",
    "class B(object):\n",
    "    def __init__(self):\n",
    "        print('B')\n",
    "        super().__init__()\n",
    "class C(A, B):\n",
    "    def __init__(self):\n",
    "        print('C')\n",
    "        super().__init__()\n",
    "class D(A, B):\n",
    "    def __init__(self):\n",
    "        print('D')\n",
    "        super().__init__()\n",
    "class E(A, B):\n",
    "    def __init__(self):\n",
    "        print('E')\n",
    "        super().__init__()\n",
    "class F(A, B):\n",
    "    def __init__(self):\n",
    "        print('F')\n",
    "        super().__init__()\n",
    "class G(C, D):\n",
    "    def __init__(self):\n",
    "        print('G')\n",
    "        super().__init__()\n",
    "class H(E, F):\n",
    "    def __init__(self):\n",
    "        print('H')\n",
    "        super().__init__()\n",
    "class I(G, H):\n",
    "    def __init__(self):\n",
    "        print('I')\n",
    "        super().__init__()\n",
    "\n",
    "I()"
   ]
  },
  {
   "cell_type": "markdown",
   "id": "a7f09b61",
   "metadata": {},
   "source": [
    "<img src=\"./images/mro_in_multiple_inheritance.jpg\" width=600/>"
   ]
  },
  {
   "cell_type": "code",
   "execution_count": 126,
   "id": "42284518",
   "metadata": {
    "scrolled": true
   },
   "outputs": [
    {
     "name": "stdout",
     "output_type": "stream",
     "text": [
      "MRO:  ['I', 'G', 'C', 'D', 'H', 'E', 'F', 'A', 'B', 'object']\n"
     ]
    }
   ],
   "source": [
    "print('MRO: ', [cls.__name__ for cls in I.__mro__])"
   ]
  },
  {
   "attachments": {},
   "cell_type": "markdown",
   "id": "56d22bde",
   "metadata": {},
   "source": [
    "## Encapsulation\n",
    "- Adding ```_ (single underscore)``` for __protected__ and ```__ (double underscore) ``` for __private__ in front of the variables or the methods to hide them when accessing from outside of the class\n",
    "- Python changed name of the method to ```_ClassName__method()```, so it can’t be accessed normally\n"
   ]
  },
  {
   "cell_type": "code",
   "execution_count": 140,
   "id": "f60ad86a",
   "metadata": {},
   "outputs": [
    {
     "name": "stdout",
     "output_type": "stream",
     "text": [
      "calling protected member of Base class: base \n"
     ]
    }
   ],
   "source": [
    "class Base:\n",
    "    def __init__(self):\n",
    "        # protected member\n",
    "        self._a = 'base'\n",
    "\n",
    "class Derived(Base):\n",
    "    def __init__(self):\n",
    "        super().__init__() # can also call Base.__init__(self)\n",
    "        print(f'calling protected member of Base class: {self._a} ')\n",
    "\n",
    "derived = Derived()"
   ]
  },
  {
   "cell_type": "code",
   "execution_count": 143,
   "id": "cab39e54",
   "metadata": {},
   "outputs": [
    {
     "data": {
      "text/plain": [
       "'base'"
      ]
     },
     "execution_count": 143,
     "metadata": {},
     "output_type": "execute_result"
    }
   ],
   "source": [
    "base = Base()\n",
    "base._a"
   ]
  },
  {
   "cell_type": "code",
   "execution_count": 145,
   "id": "3e8095c6",
   "metadata": {},
   "outputs": [
    {
     "data": {
      "text/plain": [
       "'base'"
      ]
     },
     "execution_count": 145,
     "metadata": {},
     "output_type": "execute_result"
    }
   ],
   "source": [
    "derived._a"
   ]
  },
  {
   "cell_type": "code",
   "execution_count": 161,
   "id": "3cb92fb8",
   "metadata": {},
   "outputs": [],
   "source": [
    "class Base2:\n",
    "    def __init__(self):\n",
    "        # protected member\n",
    "        self.__b = 'private__b'\n",
    "\n",
    "class Derived2(Base2):\n",
    "    def __init__(self):\n",
    "        super().__init__() # can also call Base.__init__(self)\n",
    "        print(f'calling protected member of Base class: {self.__b} ') # raise AttributeError"
   ]
  },
  {
   "cell_type": "code",
   "execution_count": 165,
   "id": "e5a9de65",
   "metadata": {},
   "outputs": [
    {
     "ename": "AttributeError",
     "evalue": "'Derived2' object has no attribute '_Derived2__b'",
     "output_type": "error",
     "traceback": [
      "\u001b[1;31m---------------------------------------------------------------------------\u001b[0m",
      "\u001b[1;31mAttributeError\u001b[0m                            Traceback (most recent call last)",
      "\u001b[1;32m~\\AppData\\Local\\Temp/ipykernel_10692/3699034065.py\u001b[0m in \u001b[0;36m<module>\u001b[1;34m\u001b[0m\n\u001b[1;32m----> 1\u001b[1;33m \u001b[0mderived2\u001b[0m \u001b[1;33m=\u001b[0m \u001b[0mDerived2\u001b[0m\u001b[1;33m(\u001b[0m\u001b[1;33m)\u001b[0m\u001b[1;33m\u001b[0m\u001b[1;33m\u001b[0m\u001b[0m\n\u001b[0m",
      "\u001b[1;32m~\\AppData\\Local\\Temp/ipykernel_10692/3806405540.py\u001b[0m in \u001b[0;36m__init__\u001b[1;34m(self)\u001b[0m\n\u001b[0;32m      7\u001b[0m     \u001b[1;32mdef\u001b[0m \u001b[0m__init__\u001b[0m\u001b[1;33m(\u001b[0m\u001b[0mself\u001b[0m\u001b[1;33m)\u001b[0m\u001b[1;33m:\u001b[0m\u001b[1;33m\u001b[0m\u001b[1;33m\u001b[0m\u001b[0m\n\u001b[0;32m      8\u001b[0m         \u001b[0msuper\u001b[0m\u001b[1;33m(\u001b[0m\u001b[1;33m)\u001b[0m\u001b[1;33m.\u001b[0m\u001b[0m__init__\u001b[0m\u001b[1;33m(\u001b[0m\u001b[1;33m)\u001b[0m \u001b[1;31m# can also call Base.__init__(self)\u001b[0m\u001b[1;33m\u001b[0m\u001b[1;33m\u001b[0m\u001b[0m\n\u001b[1;32m----> 9\u001b[1;33m         \u001b[0mprint\u001b[0m\u001b[1;33m(\u001b[0m\u001b[1;34mf'calling protected member of Base class: {self.__b} '\u001b[0m\u001b[1;33m)\u001b[0m \u001b[1;31m# raise AttributeError\u001b[0m\u001b[1;33m\u001b[0m\u001b[1;33m\u001b[0m\u001b[0m\n\u001b[0m",
      "\u001b[1;31mAttributeError\u001b[0m: 'Derived2' object has no attribute '_Derived2__b'"
     ]
    }
   ],
   "source": [
    "derived2 = Derived2()"
   ]
  },
  {
   "cell_type": "code",
   "execution_count": 220,
   "id": "97ff2251",
   "metadata": {},
   "outputs": [],
   "source": [
    "class Base3:\n",
    "    def __init__(self):\n",
    "        # protected member\n",
    "        self.__c = 'private__c'\n",
    "    def get_c(self):\n",
    "        return self.__c\n",
    "class Derived3(Base3):\n",
    "    def __init__(self):\n",
    "        super().__init__() # can also call Base.__init__(self)\n",
    "        print(f'calling protected member of Base class: {self.get_c()}')\n",
    "    \n",
    "    def __private_method(self):\n",
    "        return '__private_method()'"
   ]
  },
  {
   "cell_type": "code",
   "execution_count": 221,
   "id": "5807ff5d",
   "metadata": {},
   "outputs": [
    {
     "name": "stdout",
     "output_type": "stream",
     "text": [
      "calling protected member of Base class: private__c\n"
     ]
    }
   ],
   "source": [
    "derived3 = Derived3()"
   ]
  },
  {
   "cell_type": "code",
   "execution_count": 204,
   "id": "302581d1",
   "metadata": {},
   "outputs": [
    {
     "ename": "AttributeError",
     "evalue": "'Derived3' object has no attribute '__private_method'",
     "output_type": "error",
     "traceback": [
      "\u001b[1;31m---------------------------------------------------------------------------\u001b[0m",
      "\u001b[1;31mAttributeError\u001b[0m                            Traceback (most recent call last)",
      "\u001b[1;32m~\\AppData\\Local\\Temp/ipykernel_10692/3197940918.py\u001b[0m in \u001b[0;36m<module>\u001b[1;34m\u001b[0m\n\u001b[1;32m----> 1\u001b[1;33m \u001b[0mderived3\u001b[0m\u001b[1;33m.\u001b[0m\u001b[0m__private_method\u001b[0m\u001b[1;33m(\u001b[0m\u001b[1;33m)\u001b[0m\u001b[1;33m\u001b[0m\u001b[1;33m\u001b[0m\u001b[0m\n\u001b[0m",
      "\u001b[1;31mAttributeError\u001b[0m: 'Derived3' object has no attribute '__private_method'"
     ]
    }
   ],
   "source": [
    "derived3.__private_method()"
   ]
  },
  {
   "cell_type": "code",
   "execution_count": 222,
   "id": "e087f1c8",
   "metadata": {},
   "outputs": [
    {
     "name": "stdout",
     "output_type": "stream",
     "text": [
      "['_Base3__c', '_Derived3__private_method', '__class__', '__delattr__', '__dict__', '__dir__', '__doc__', '__eq__', '__format__', '__ge__', '__getattribute__', '__gt__', '__hash__', '__init__', '__init_subclass__', '__le__', '__lt__', '__module__', '__ne__', '__new__', '__reduce__', '__reduce_ex__', '__repr__', '__setattr__', '__sizeof__', '__str__', '__subclasshook__', '__weakref__', 'get_c']\n"
     ]
    }
   ],
   "source": [
    "print(dir(derived3))"
   ]
  },
  {
   "cell_type": "code",
   "execution_count": 223,
   "id": "06cb67c1",
   "metadata": {},
   "outputs": [
    {
     "data": {
      "text/plain": [
       "'private__c'"
      ]
     },
     "execution_count": 223,
     "metadata": {},
     "output_type": "execute_result"
    }
   ],
   "source": [
    "derived3._Base3__c"
   ]
  },
  {
   "cell_type": "code",
   "execution_count": 224,
   "id": "d182ed22",
   "metadata": {},
   "outputs": [
    {
     "data": {
      "text/plain": [
       "'__private_method()'"
      ]
     },
     "execution_count": 224,
     "metadata": {},
     "output_type": "execute_result"
    }
   ],
   "source": [
    "derived3._Derived3__private_method()"
   ]
  },
  {
   "cell_type": "code",
   "execution_count": 231,
   "id": "c18aef14",
   "metadata": {},
   "outputs": [
    {
     "data": {
      "text/plain": [
       "mappingproxy({'__repr__': <slot wrapper '__repr__' of 'type' objects>,\n",
       "              '__call__': <slot wrapper '__call__' of 'type' objects>,\n",
       "              '__getattribute__': <slot wrapper '__getattribute__' of 'type' objects>,\n",
       "              '__setattr__': <slot wrapper '__setattr__' of 'type' objects>,\n",
       "              '__delattr__': <slot wrapper '__delattr__' of 'type' objects>,\n",
       "              '__init__': <slot wrapper '__init__' of 'type' objects>,\n",
       "              '__new__': <function type.__new__(*args, **kwargs)>,\n",
       "              'mro': <method 'mro' of 'type' objects>,\n",
       "              '__subclasses__': <method '__subclasses__' of 'type' objects>,\n",
       "              '__prepare__': <method '__prepare__' of 'type' objects>,\n",
       "              '__instancecheck__': <method '__instancecheck__' of 'type' objects>,\n",
       "              '__subclasscheck__': <method '__subclasscheck__' of 'type' objects>,\n",
       "              '__dir__': <method '__dir__' of 'type' objects>,\n",
       "              '__sizeof__': <method '__sizeof__' of 'type' objects>,\n",
       "              '__basicsize__': <member '__basicsize__' of 'type' objects>,\n",
       "              '__itemsize__': <member '__itemsize__' of 'type' objects>,\n",
       "              '__flags__': <member '__flags__' of 'type' objects>,\n",
       "              '__weakrefoffset__': <member '__weakrefoffset__' of 'type' objects>,\n",
       "              '__base__': <member '__base__' of 'type' objects>,\n",
       "              '__dictoffset__': <member '__dictoffset__' of 'type' objects>,\n",
       "              '__mro__': <member '__mro__' of 'type' objects>,\n",
       "              '__name__': <attribute '__name__' of 'type' objects>,\n",
       "              '__qualname__': <attribute '__qualname__' of 'type' objects>,\n",
       "              '__bases__': <attribute '__bases__' of 'type' objects>,\n",
       "              '__module__': <attribute '__module__' of 'type' objects>,\n",
       "              '__abstractmethods__': <attribute '__abstractmethods__' of 'type' objects>,\n",
       "              '__dict__': <attribute '__dict__' of 'type' objects>,\n",
       "              '__doc__': <attribute '__doc__' of 'type' objects>,\n",
       "              '__text_signature__': <attribute '__text_signature__' of 'type' objects>})"
      ]
     },
     "execution_count": 231,
     "metadata": {},
     "output_type": "execute_result"
    }
   ],
   "source": [
    "Base3.__class__.__dict__"
   ]
  },
  {
   "cell_type": "markdown",
   "id": "7f06a0c3",
   "metadata": {},
   "source": [
    "## Polymorphism\n",
    "- Polymorphism lets us define methods in the child class that have the same name as the methods in the parent class.\n",
    "- In inheritance, the child class inherits the methods from the parent class. However, it is possible to modify a method in a child class that it has inherited from the parent class. This is particularly useful in cases where the method inherited from the parent class doesn’t quite fit the child class. In such cases, we re-implement the method in the child class. This process of re-implementing a method in the child class is known as __Method Overriding__"
   ]
  },
  {
   "cell_type": "code",
   "execution_count": 232,
   "id": "b855787a",
   "metadata": {},
   "outputs": [],
   "source": [
    "class Bird():\n",
    "    def intro(self):\n",
    "        print('Many type of birds')\n",
    "    def flight(self):\n",
    "        print('Most of birds can flight')\n",
    "\n",
    "class Sparrow(Bird):\n",
    "    def flight(self):\n",
    "        print('Sparrows can flight')\n",
    "class Ostrich(Bird):\n",
    "    def flight(self):\n",
    "        print('Ostrich cannot flight')"
   ]
  },
  {
   "cell_type": "code",
   "execution_count": 234,
   "id": "0e118a6e",
   "metadata": {},
   "outputs": [
    {
     "name": "stdout",
     "output_type": "stream",
     "text": [
      "Many type of birds\n",
      "Most of birds can flight\n",
      "Many type of birds\n",
      "Sparrows can flight\n",
      "Many type of birds\n",
      "Ostrich cannot flight\n"
     ]
    }
   ],
   "source": [
    "birds = [Bird(), Sparrow(), Ostrich()]\n",
    "for bird in birds:\n",
    "    bird.intro()\n",
    "    bird.flight()"
   ]
  },
  {
   "attachments": {},
   "cell_type": "markdown",
   "id": "1e968609",
   "metadata": {},
   "source": [
    "## Abstract\n",
    "- Python doesn’t have keyword to define the abstract class or interface like in Java\n",
    "- Python provides an ```abc``` module which defines a metaclass and a set of decorators that are used in the creation of abstract base classes\n",
    "- Using ```ABC``` class from the ```abc``` module as the metaclass for the abstract base class and then making use of the ```@abstractmethod``` decorators to create methods that must be implemented by non-abstract subclasses"
   ]
  },
  {
   "cell_type": "code",
   "execution_count": 236,
   "id": "94d09430",
   "metadata": {},
   "outputs": [],
   "source": [
    "from abc import ABC, abstractmethod\n",
    "class Vehicle(ABC):\n",
    "    @abstractmethod\n",
    "    def start_engine(self):\n",
    "        pass\n",
    "    @abstractmethod\n",
    "    def change_gear(self):\n",
    "        pass\n",
    "\n",
    "class Car(Vehicle):\n",
    "    def __init__(self, maker, model, color):\n",
    "        self.maker, self.model, self.color = maker, model, color\n",
    "    def start_engine(self):\n",
    "        print('Start engine!')\n",
    "    def change_gear(self):\n",
    "        print('Change gear!')"
   ]
  },
  {
   "cell_type": "code",
   "execution_count": 237,
   "id": "b9b6d717",
   "metadata": {},
   "outputs": [
    {
     "name": "stdout",
     "output_type": "stream",
     "text": [
      "Start engine!\n",
      "Change gear!\n"
     ]
    }
   ],
   "source": [
    "car = Car('Toyota', 'Camry', 'Silver')\n",
    "car.start_engine()\n",
    "car.change_gear()"
   ]
  }
 ],
 "metadata": {
  "kernelspec": {
   "display_name": "Python 3 (ipykernel)",
   "language": "python",
   "name": "python3"
  },
  "language_info": {
   "codemirror_mode": {
    "name": "ipython",
    "version": 3
   },
   "file_extension": ".py",
   "mimetype": "text/x-python",
   "name": "python",
   "nbconvert_exporter": "python",
   "pygments_lexer": "ipython3",
   "version": "3.9.6"
  }
 },
 "nbformat": 4,
 "nbformat_minor": 5
}
