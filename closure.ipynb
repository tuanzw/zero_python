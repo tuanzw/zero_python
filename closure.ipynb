{
 "cells": [
  {
   "attachments": {},
   "cell_type": "markdown",
   "id": "2aff01d9",
   "metadata": {},
   "source": [
    "# Closure\n",
    "- The technique of using the values of outside parameters within a dynamic function is called closure\n",
    "- The key point of closures are that they remember their context in which they were created\n",
    "- They still remain existing even if the original creator function is deleted\n",
    "## To create closure\n",
    "- Must have a nested function (function inside a function)\n",
    "- The nested function must refer to a value defined in the enclosing function\n",
    "- The enclosing function must return the nested function\n",
    "## Closures are good for:\n",
    "- Eliminating global variables\n",
    "- Replacing hard-coded constants\n",
    "- Providing consistent function signatures"
   ]
  },
  {
   "cell_type": "code",
   "execution_count": 17,
   "id": "316eba45",
   "metadata": {},
   "outputs": [],
   "source": [
    "def outer_function():\n",
    "    message = 'Hi'\n",
    "    \n",
    "    def inner_function():\n",
    "        print(message)\n",
    "    \n",
    "    return inner_function"
   ]
  },
  {
   "cell_type": "code",
   "execution_count": 18,
   "id": "6c9de5f4",
   "metadata": {},
   "outputs": [
    {
     "data": {
      "text/plain": [
       "(<cell at 0x00000229A58F1280: str object at 0x00000229A58E5330>,)"
      ]
     },
     "execution_count": 18,
     "metadata": {},
     "output_type": "execute_result"
    }
   ],
   "source": [
    "f = outer_function()\n",
    "f.__closure__"
   ]
  },
  {
   "cell_type": "code",
   "execution_count": 19,
   "id": "bc46e093",
   "metadata": {},
   "outputs": [
    {
     "data": {
      "text/plain": [
       "'Hi'"
      ]
     },
     "execution_count": 19,
     "metadata": {},
     "output_type": "execute_result"
    }
   ],
   "source": [
    "f.__closure__[0].cell_contents"
   ]
  },
  {
   "cell_type": "code",
   "execution_count": 20,
   "id": "2055f19e",
   "metadata": {},
   "outputs": [
    {
     "name": "stdout",
     "output_type": "stream",
     "text": [
      "Hi\n"
     ]
    }
   ],
   "source": [
    "f()"
   ]
  },
  {
   "cell_type": "code",
   "execution_count": 21,
   "id": "21498d8c",
   "metadata": {},
   "outputs": [],
   "source": [
    "# remove message varible\n",
    "def outer_function(msg): \n",
    "    def inner_function():\n",
    "        print(msg)\n",
    "    \n",
    "    return inner_function"
   ]
  },
  {
   "cell_type": "code",
   "execution_count": 22,
   "id": "71317fc3",
   "metadata": {},
   "outputs": [
    {
     "data": {
      "text/plain": [
       "'Bye'"
      ]
     },
     "execution_count": 22,
     "metadata": {},
     "output_type": "execute_result"
    }
   ],
   "source": [
    "b = outer_function('Bye')\n",
    "b.__closure__[0].cell_contents"
   ]
  },
  {
   "cell_type": "code",
   "execution_count": 23,
   "id": "561b8daa",
   "metadata": {},
   "outputs": [
    {
     "name": "stdout",
     "output_type": "stream",
     "text": [
      "Bye\n"
     ]
    }
   ],
   "source": [
    "b()"
   ]
  },
  {
   "attachments": {},
   "cell_type": "markdown",
   "id": "3e04ce3d",
   "metadata": {},
   "source": [
    "### Plural nouns: \n",
    "##### Basic rules\n",
    "- If a word ends in S, X, or Z, add ES. Bass becomes basses, fax becomes faxes, and waltz becomes waltzes\n",
    "- If a word ends in a noisy H, add ES; if it ends in a silent H, just add S. Coach becomes coaches and rash becomes rashes, because you can hear the CH and SH sounds when you say them. But cheetah becomes cheetahs, because the H is silent\n",
    "- If a word ends in Y that sounds like I, change the Y to IES; if the Y is combined with a vowel to sound like something else, just add S. So vacancy becomes vacancies, but day becomes days\n",
    "- If all else fails, just add S\n",
    "\n",
    "##### Exception:\n",
    "- Man becomes men and woman becomes women, but human becomes humans. Mouse becomes mice and louse becomes lice, but house becomes houses. Knife becomes knives and wife becomes wives, but lowlife becomes lowlifes. And don’t even get me started on words that are their own plural, like sheep, deer, and haiku"
   ]
  },
  {
   "cell_type": "code",
   "execution_count": 32,
   "id": "7be0831d",
   "metadata": {},
   "outputs": [],
   "source": [
    "import re\n",
    "\n",
    "def plural(noun):\n",
    "    # word ends in s, x, or z, add es\n",
    "    if re.search('[sxz]$', noun):\n",
    "        return re.sub('$', 'es', noun)\n",
    "    \n",
    "    #If a word ends in a noisy H, add ES; \n",
    "    #if it ends in a silent H, just add S.\n",
    "    #Coach becomes coaches and rash becomes rashes, \n",
    "    #because you can hear the CH and SH sounds when you say them. \n",
    "    #But cheetah becomes cheetahs, because the H is silent\n",
    "    \n",
    "    elif re.search('[^aeioudgkprt]h$', noun):\n",
    "        return re.sub('$', 'es', noun)\n",
    "    \n",
    "    #If a word ends in Y that sounds like I, change the Y to IES; \n",
    "    #if the Y is combined with a vowel to sound like something else, just add S.\n",
    "    #So vacancy becomes vacancies, but day becomes days\n",
    "    \n",
    "    elif re.search('[^aeiou]y$', noun):\n",
    "        return re.sub('y$', 'ies', noun)\n",
    "    \n",
    "    #just add s\n",
    "    else:\n",
    "        return noun + 's'"
   ]
  },
  {
   "cell_type": "code",
   "execution_count": 34,
   "id": "dfdddc94",
   "metadata": {},
   "outputs": [
    {
     "data": {
      "text/plain": [
       "'boys'"
      ]
     },
     "execution_count": 34,
     "metadata": {},
     "output_type": "execute_result"
    }
   ],
   "source": [
    "plural('boy')"
   ]
  },
  {
   "cell_type": "code",
   "execution_count": 35,
   "id": "9b3c9c8c",
   "metadata": {},
   "outputs": [
    {
     "data": {
      "text/plain": [
       "'vacancies'"
      ]
     },
     "execution_count": 35,
     "metadata": {},
     "output_type": "execute_result"
    }
   ],
   "source": [
    "rules = [\n",
    "    (lambda noun: re.search('[sxz]$', noun), lambda noun: re.sub('$', 'es', noun)),\n",
    "    (lambda noun: re.search('[^aeioudgkprt]h$', noun), lambda noun: re.sub('$', 'es', noun)),\n",
    "    (lambda noun: re.search('[^aeiou]y$', noun), lambda noun: re.sub('y$', 'ies', noun)),\n",
    "    (lambda noun: True, lambda noun: noun + 's')\n",
    "]\n",
    "\n",
    "def plural(noun):\n",
    "    for matches_rule, applies_rule in rules:\n",
    "        if matches_rule(noun):\n",
    "            return applies_rule(noun)\n",
    "plural('vacancy')"
   ]
  },
  {
   "cell_type": "code",
   "execution_count": 37,
   "id": "6b1c318c",
   "metadata": {},
   "outputs": [
    {
     "data": {
      "text/plain": [
       "'girls'"
      ]
     },
     "execution_count": 37,
     "metadata": {},
     "output_type": "execute_result"
    }
   ],
   "source": [
    "# Apply closures\n",
    "def build_match_and_apply_function(pattern, search, replace):\n",
    "    def match_rule(word):\n",
    "        return re.search(pattern, word)\n",
    "    def apply_rule(word):\n",
    "        return re.sub(search, replace, word)\n",
    "    \n",
    "    # return pairs of inner function (match_rule & apply_rule)\n",
    "    return (match_rule, apply_rule)\n",
    "\n",
    "patterns = (\n",
    "    ('[sxz]$',           '$',  'es'),\n",
    "    ('[^aeioudgkprt]h$', '$',  'es'),\n",
    "    ('[^aeiou]y$',       'y$', 'ies'),\n",
    "    ('$',                '$',  's')\n",
    "    \n",
    ")\n",
    "# rules is list of (match_rule & apply_rule)\n",
    "rules = [build_match_and_apply_function(pattern, search, replace) for (pattern, search, replace) in patterns ]\n",
    "\n",
    "def plural(noun):\n",
    "    for matches_rule, applies_rule in rules:\n",
    "        if matches_rule(noun): return applies_rule(noun)\n",
    "        \n",
    "plural('girl')"
   ]
  },
  {
   "cell_type": "markdown",
   "id": "fb02dfd2",
   "metadata": {},
   "source": [
    "### Closure variables are late binding"
   ]
  },
  {
   "cell_type": "code",
   "execution_count": 38,
   "id": "bbafbf5d",
   "metadata": {},
   "outputs": [],
   "source": [
    "def unexpect_create_adders():\n",
    "    adders = []\n",
    "    for i in range(10):\n",
    "        def adder(x):\n",
    "            return x + i\n",
    "        adders.append(adder)\n",
    "    return adders"
   ]
  },
  {
   "cell_type": "code",
   "execution_count": 39,
   "id": "9ce0f1da",
   "metadata": {},
   "outputs": [
    {
     "name": "stdout",
     "output_type": "stream",
     "text": [
      "10\n",
      "10\n",
      "10\n",
      "10\n",
      "10\n",
      "10\n",
      "10\n",
      "10\n",
      "10\n",
      "10\n"
     ]
    }
   ],
   "source": [
    "for adder in unexpect_create_adders():\n",
    "    print(adder(1))"
   ]
  },
  {
   "cell_type": "code",
   "execution_count": 46,
   "id": "c459334c",
   "metadata": {},
   "outputs": [
    {
     "name": "stdout",
     "output_type": "stream",
     "text": [
      "9\n",
      "9\n",
      "9\n",
      "9\n",
      "9\n"
     ]
    }
   ],
   "source": [
    "unexpected = unexpect_create_adders()\n",
    "print(unexpected[0].__closure__[0].cell_contents)\n",
    "print(unexpected[1].__closure__[0].cell_contents)\n",
    "print(unexpected[2].__closure__[0].cell_contents)\n",
    "print(unexpected[3].__closure__[0].cell_contents)\n",
    "print(unexpected[4].__closure__[0].cell_contents)"
   ]
  },
  {
   "cell_type": "code",
   "execution_count": 48,
   "id": "396b8e74",
   "metadata": {},
   "outputs": [
    {
     "name": "stdout",
     "output_type": "stream",
     "text": [
      "1\n",
      "2\n",
      "3\n",
      "4\n",
      "5\n",
      "6\n",
      "7\n",
      "8\n",
      "9\n",
      "10\n"
     ]
    }
   ],
   "source": [
    "def create_adders():\n",
    "    adders = []\n",
    "    for i in range(10):\n",
    "        def adder(x, i=i):\n",
    "            return x + i\n",
    "        adders.append(adder)\n",
    "    return adders\n",
    "\n",
    "for adder in create_adders():\n",
    "    print(adder(1))"
   ]
  },
  {
   "cell_type": "code",
   "execution_count": 54,
   "id": "923a947e",
   "metadata": {
    "scrolled": true
   },
   "outputs": [
    {
     "name": "stdout",
     "output_type": "stream",
     "text": [
      "None\n"
     ]
    }
   ],
   "source": [
    "expected = create_adders()\n",
    "print(expected[0].__closure__)"
   ]
  }
 ],
 "metadata": {
  "kernelspec": {
   "display_name": "Python 3 (ipykernel)",
   "language": "python",
   "name": "python3"
  },
  "language_info": {
   "codemirror_mode": {
    "name": "ipython",
    "version": 3
   },
   "file_extension": ".py",
   "mimetype": "text/x-python",
   "name": "python",
   "nbconvert_exporter": "python",
   "pygments_lexer": "ipython3",
   "version": "3.9.6"
  }
 },
 "nbformat": 4,
 "nbformat_minor": 5
}
