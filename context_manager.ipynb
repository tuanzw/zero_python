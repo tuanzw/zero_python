{
 "cells": [
  {
   "attachments": {},
   "cell_type": "markdown",
   "id": "25829e28",
   "metadata": {},
   "source": [
    "# Context manager\n",
    "- The `with` statement is used to wrap the execution of a block with methods defined by a context manager\n",
    "- The context manager handles `the entry into`, and `the exit from`, the desired runtime context for the execution of the block of code\n",
    "- Typical uses of context managers include saving and restoring various kinds of global state, locking and unlocking resources, closing opened files, etc\n",
    "- When used as a context manager, the file will close when the code block is finished, even if an exception occurs. \n",
    "- The context manager protocol consists of the `__enter__()` and `__exit__()` methods. At the start of the with block, `__enter__()` is invoked on the context manager object. At the end of the with block,  `__exit__()` is invoked on the context manager object\n",
    "- In Python, the `contextlib` module provides `@contextmanager` decorator which `allow to build a context manager from a simple generator`, instead of creating a class & implementing the protocol (enter/exit)\n",
    "- The function being decorated must return `a generator-iterator` when called\n",
    "- This iterator must `yield exactly one value`, which will be bound to the targets in the with statement’s as clause, if any\n",
    "- At the point where the generator yields, the block nested in the with statement is executed. The generator is then resumed after the block is exited\n",
    "- If an unhandled exception occurs in the block, it is re-raised inside the generator at the point where the `yield` occurred"
   ]
  },
  {
   "cell_type": "code",
   "execution_count": 12,
   "id": "aeee1578",
   "metadata": {},
   "outputs": [],
   "source": [
    "import sys\n",
    "import contextlib\n",
    "\n",
    "@contextlib.contextmanager\n",
    "def looking_mirror():\n",
    "    original_write = sys.stdout.write\n",
    "    \n",
    "    def reverse_write(text):\n",
    "        return original_write(text[::-1])\n",
    "    sys.stdout.write = reverse_write\n",
    "    yield 'exact_one_value'\n",
    "    sys.stdout.write = original_write\n",
    "\n",
    "reverse = looking_mirror()\n"
   ]
  },
  {
   "cell_type": "code",
   "execution_count": 13,
   "id": "3869b506",
   "metadata": {},
   "outputs": [
    {
     "data": {
      "text/plain": [
       "<contextlib._GeneratorContextManager at 0x29279fc6f10>"
      ]
     },
     "execution_count": 13,
     "metadata": {},
     "output_type": "execute_result"
    }
   ],
   "source": [
    "reverse"
   ]
  },
  {
   "cell_type": "code",
   "execution_count": 14,
   "id": "1e3167e1",
   "metadata": {},
   "outputs": [
    {
     "name": "stdout",
     "output_type": "stream",
     "text": [
      "['__abstractmethods__', '__call__', '__class__', '__class_getitem__', '__delattr__', '__dict__', '__dir__', '__doc__', '__enter__', '__eq__', '__exit__', '__format__', '__ge__', '__getattribute__', '__gt__', '__hash__', '__init__', '__init_subclass__', '__le__', '__lt__', '__module__', '__ne__', '__new__', '__reduce__', '__reduce_ex__', '__repr__', '__setattr__', '__sizeof__', '__slots__', '__str__', '__subclasshook__', '__weakref__', '_abc_impl', '_recreate_cm', 'args', 'func', 'gen', 'kwds']\n"
     ]
    }
   ],
   "source": [
    "print(dir(reverse))"
   ]
  },
  {
   "cell_type": "code",
   "execution_count": 15,
   "id": "f7b30ea2",
   "metadata": {},
   "outputs": [
    {
     "name": "stdout",
     "output_type": "stream",
     "text": [
      "<generator object looking_mirror at 0x000002927A04DD60>\n"
     ]
    }
   ],
   "source": [
    "print(reverse.gen)"
   ]
  },
  {
   "cell_type": "code",
   "execution_count": 16,
   "id": "baccada9",
   "metadata": {},
   "outputs": [
    {
     "name": "stdout",
     "output_type": "stream",
     "text": [
      "mlkihgfedcba\n"
     ]
    }
   ],
   "source": [
    "next(reverse.gen)\n",
    "print('abcdefghiklm')"
   ]
  },
  {
   "cell_type": "code",
   "execution_count": 17,
   "id": "767c210b",
   "metadata": {},
   "outputs": [
    {
     "name": "stdout",
     "output_type": "stream",
     "text": [
      "tset\n"
     ]
    }
   ],
   "source": [
    "print('test')"
   ]
  },
  {
   "cell_type": "code",
   "execution_count": 18,
   "id": "147b1318",
   "metadata": {},
   "outputs": [
    {
     "ename": "StopIteration",
     "evalue": "",
     "output_type": "error",
     "traceback": [
      "\u001b[1;31m---------------------------------------------------------------------------\u001b[0m",
      "\u001b[1;31mStopIteration\u001b[0m                             Traceback (most recent call last)",
      "\u001b[1;32m~\\AppData\\Local\\Temp/ipykernel_27300/1012730358.py\u001b[0m in \u001b[0;36m<module>\u001b[1;34m\u001b[0m\n\u001b[1;32m----> 1\u001b[1;33m \u001b[0mnext\u001b[0m\u001b[1;33m(\u001b[0m\u001b[0mreverse\u001b[0m\u001b[1;33m.\u001b[0m\u001b[0mgen\u001b[0m\u001b[1;33m)\u001b[0m\u001b[1;33m\u001b[0m\u001b[1;33m\u001b[0m\u001b[0m\n\u001b[0m",
      "\u001b[1;31mStopIteration\u001b[0m: "
     ]
    }
   ],
   "source": [
    "next(reverse.gen)"
   ]
  },
  {
   "cell_type": "code",
   "execution_count": 19,
   "id": "16940295",
   "metadata": {},
   "outputs": [
    {
     "name": "stdout",
     "output_type": "stream",
     "text": [
      "test\n"
     ]
    }
   ],
   "source": [
    "print('test')"
   ]
  },
  {
   "cell_type": "code",
   "execution_count": 20,
   "id": "2418a696",
   "metadata": {},
   "outputs": [
    {
     "name": "stdout",
     "output_type": "stream",
     "text": [
      "mlkihgfedcba\n",
      "what: exact_one_value\n"
     ]
    }
   ],
   "source": [
    "with looking_mirror() as what:\n",
    "    print('abcdefghiklm')\n",
    "print(f'what: {what}')"
   ]
  },
  {
   "cell_type": "code",
   "execution_count": 21,
   "id": "714b7ed7",
   "metadata": {},
   "outputs": [
    {
     "name": "stdout",
     "output_type": "stream",
     "text": [
      "test\n"
     ]
    }
   ],
   "source": [
    "print('test')"
   ]
  },
  {
   "attachments": {},
   "cell_type": "markdown",
   "id": "9876be86",
   "metadata": {},
   "source": [
    "- If an unhandled exception occurs in the with block, it is re-raised in the generator at the point where the `yield` occurred inside `looking_mirror` function. But there is no error handling there, so the `looking_mirror` function will abort without ever restoring the original `sys.stdout.write` method, leaving the system in an invalid state\n",
    "- Use a `try...except...finally` statement to trap the error (if any), or ensure that some cleanup takes place"
   ]
  },
  {
   "cell_type": "code",
   "execution_count": 22,
   "id": "fdb0c336",
   "metadata": {},
   "outputs": [
    {
     "name": "stdout",
     "output_type": "stream",
     "text": [
      "Please DO NOT divide by zero\n",
      "abcdefghijklm\n"
     ]
    }
   ],
   "source": [
    "@contextlib.contextmanager\n",
    "def looking_mirror():\n",
    "    original_write = sys.stdout.write\n",
    "    \n",
    "    def reverse_write(text):\n",
    "        return original_write(text[::-1])\n",
    "    sys.stdout.write = reverse_write\n",
    "    msg = 'Safely back to normal'\n",
    "    try:\n",
    "        yield 'exact_one_value'\n",
    "    except ZeroDivisionError:\n",
    "        msg = 'Please DO NOT divide by zero'\n",
    "    finally:\n",
    "        sys.stdout.write = original_write\n",
    "        print(msg)\n",
    "\n",
    "with looking_mirror() as what:\n",
    "    1/0\n",
    "print('abcdefghijklm')"
   ]
  },
  {
   "cell_type": "code",
   "execution_count": 23,
   "id": "a80d26ea",
   "metadata": {},
   "outputs": [
    {
     "name": "stdout",
     "output_type": "stream",
     "text": [
      "test\n"
     ]
    }
   ],
   "source": [
    "print('test')"
   ]
  },
  {
   "attachments": {},
   "cell_type": "markdown",
   "id": "7f6f4ce4",
   "metadata": {},
   "source": [
    "# Class as a context manager\n",
    "- The context manager protocol consists of the `__enter__()` and `__exit__()` methods. At the start of the with block, `__enter__()` is invoked on the context manager object. At the end of the with block,  `__exit__()` is invoked on the context manager object\n",
    "- If `__exit__()` returns None or anything but True, any exception raised in the with block will be propagated"
   ]
  },
  {
   "cell_type": "code",
   "execution_count": 24,
   "id": "8e2216d5",
   "metadata": {},
   "outputs": [
    {
     "name": "stdout",
     "output_type": "stream",
     "text": [
      "mlkjihgfedcba\n",
      "exact_one_value\n"
     ]
    }
   ],
   "source": [
    "import sys\n",
    "class LookingMirror():\n",
    "    def __enter__(self):\n",
    "        self.original_write = sys.stdout.write\n",
    "        sys.stdout.write = self.reverse_write\n",
    "        return 'exact_one_value'\n",
    "    \n",
    "    def __exit__(self, exec_type, exec_value, traceback):\n",
    "        sys.stdout.write = self.original_write\n",
    "        if exec_type is ZeroDivisionError:\n",
    "            print('Please DO NOT divide by zero')\n",
    "            return True\n",
    "    def reverse_write(self, text):\n",
    "        self.original_write(text[::-1])\n",
    "\n",
    "with LookingMirror() as what:\n",
    "    print('abcdefghijklm')\n",
    "print(what)"
   ]
  },
  {
   "cell_type": "code",
   "execution_count": 25,
   "id": "c109d235",
   "metadata": {},
   "outputs": [
    {
     "name": "stdout",
     "output_type": "stream",
     "text": [
      "test\n"
     ]
    }
   ],
   "source": [
    "print('test')"
   ]
  },
  {
   "cell_type": "code",
   "execution_count": 26,
   "id": "66f583ae",
   "metadata": {},
   "outputs": [
    {
     "name": "stdout",
     "output_type": "stream",
     "text": [
      "Please DO NOT divide by zero\n",
      "exact_one_value\n"
     ]
    }
   ],
   "source": [
    "with LookingMirror() as what:\n",
    "    1/0\n",
    "print(what)"
   ]
  },
  {
   "attachments": {},
   "cell_type": "markdown",
   "id": "93cf2513",
   "metadata": {},
   "source": [
    "- `__exit__()` method tells the interpreter that it has handled the exception by returning True; in that case the interpreter suppresses the exception. On the other hand if  `__exit__()` does not explicitly return a value, the interpreter gets the usual `None`, and propagates the exception\n",
    "- With `@contextmanager` the default behavior is inverted: the  `__exit__` method provided by the decorator assumes any exception sent into the generator is handled and should be suppressed. Explicitly re-raising an exception in the decorated function is required if it needs to be propagated"
   ]
  }
 ],
 "metadata": {
  "kernelspec": {
   "display_name": "Python 3 (ipykernel)",
   "language": "python",
   "name": "python3"
  },
  "language_info": {
   "codemirror_mode": {
    "name": "ipython",
    "version": 3
   },
   "file_extension": ".py",
   "mimetype": "text/x-python",
   "name": "python",
   "nbconvert_exporter": "python",
   "pygments_lexer": "ipython3",
   "version": "3.9.6"
  }
 },
 "nbformat": 4,
 "nbformat_minor": 5
}
