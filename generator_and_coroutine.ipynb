{
 "cells": [
  {
   "attachments": {},
   "cell_type": "markdown",
   "id": "d2aab204",
   "metadata": {},
   "source": [
    "# Generator\n",
    "- An iterator is an object representing a stream of data; this object returns the data one element at a time\n",
    "- Generators are a special class of functions that simplify the task of writing iterators\n",
    "- Regular functions compute a value and return it, but generators return an iterator that returns a stream of values\n",
    "- Any function containing a ```yield``` keyword is a generator function\n",
    "- When calling a generator function, it doesn’t return a single value; instead it returns a generator object that supports the iterator protocol\n",
    "- On executing the ```yield``` expression, the generator outputs the value, similar to a return statement\n",
    "- The big difference between ```yield and a return``` statement is that on reaching a ```yield``` the generator’s state of execution is suspended and local variables are preserved\n",
    "- On the next call to the ```generator’s next()``` method, the function will resume executing\n",
    "- ```yield``` pauses a function. ```next()``` resumes where it left off"
   ]
  },
  {
   "cell_type": "code",
   "execution_count": 1,
   "id": "4aa0d867",
   "metadata": {},
   "outputs": [],
   "source": [
    "def fibonacci(max):\n",
    "    a, b = 0, 1\n",
    "    while a < max:\n",
    "        yield a\n",
    "        a, b = b, a+b\n",
    "\n",
    "f = fibonacci(100)"
   ]
  },
  {
   "cell_type": "code",
   "execution_count": 2,
   "id": "a9f3a2b9",
   "metadata": {},
   "outputs": [
    {
     "data": {
      "text/plain": [
       "<generator object fibonacci at 0x000001B84401A0B0>"
      ]
     },
     "execution_count": 2,
     "metadata": {},
     "output_type": "execute_result"
    }
   ],
   "source": [
    "f"
   ]
  },
  {
   "cell_type": "code",
   "execution_count": 3,
   "id": "3abcc2a1",
   "metadata": {},
   "outputs": [
    {
     "name": "stdout",
     "output_type": "stream",
     "text": [
      "[0, 1, 1, 2, 3, 5, 8, 13, 21, 34, 55, 89]\n"
     ]
    }
   ],
   "source": [
    "print([x for x in f])"
   ]
  },
  {
   "attachments": {},
   "cell_type": "markdown",
   "id": "f4dbec5a",
   "metadata": {},
   "source": [
    "- Behind the scenes, the for statement calls `iter()` on the container object. The function returns an iterator object that defines the method `__next__()` which accesses elements in the container one at a time\n",
    "- When there are no more elements, `__next__()` raises a StopIteration exception which tells the for loop to terminate"
   ]
  },
  {
   "cell_type": "code",
   "execution_count": 5,
   "id": "5545c1f6",
   "metadata": {},
   "outputs": [
    {
     "ename": "StopIteration",
     "evalue": "",
     "output_type": "error",
     "traceback": [
      "\u001b[1;31m---------------------------------------------------------------------------\u001b[0m",
      "\u001b[1;31mStopIteration\u001b[0m                             Traceback (most recent call last)",
      "\u001b[1;32m~\\AppData\\Local\\Temp/ipykernel_27004/1328500492.py\u001b[0m in \u001b[0;36m<module>\u001b[1;34m\u001b[0m\n\u001b[1;32m----> 1\u001b[1;33m \u001b[0mf\u001b[0m\u001b[1;33m.\u001b[0m\u001b[0m__next__\u001b[0m\u001b[1;33m(\u001b[0m\u001b[1;33m)\u001b[0m\u001b[1;33m\u001b[0m\u001b[1;33m\u001b[0m\u001b[0m\n\u001b[0m",
      "\u001b[1;31mStopIteration\u001b[0m: "
     ]
    }
   ],
   "source": [
    "f.__next__()"
   ]
  },
  {
   "cell_type": "code",
   "execution_count": 6,
   "id": "9085f75e",
   "metadata": {},
   "outputs": [
    {
     "ename": "StopIteration",
     "evalue": "",
     "output_type": "error",
     "traceback": [
      "\u001b[1;31m---------------------------------------------------------------------------\u001b[0m",
      "\u001b[1;31mStopIteration\u001b[0m                             Traceback (most recent call last)",
      "\u001b[1;32m~\\AppData\\Local\\Temp/ipykernel_27004/4256387510.py\u001b[0m in \u001b[0;36m<module>\u001b[1;34m\u001b[0m\n\u001b[1;32m----> 1\u001b[1;33m \u001b[0mnext\u001b[0m\u001b[1;33m(\u001b[0m\u001b[0mf\u001b[0m\u001b[1;33m)\u001b[0m\u001b[1;33m\u001b[0m\u001b[1;33m\u001b[0m\u001b[0m\n\u001b[0m",
      "\u001b[1;31mStopIteration\u001b[0m: "
     ]
    }
   ],
   "source": [
    "next(f)"
   ]
  },
  {
   "cell_type": "code",
   "execution_count": 4,
   "id": "a238fc63",
   "metadata": {
    "scrolled": true
   },
   "outputs": [
    {
     "name": "stdout",
     "output_type": "stream",
     "text": [
      "['__class__', '__del__', '__delattr__', '__dir__', '__doc__', '__eq__', '__format__', '__ge__', '__getattribute__', '__gt__', '__hash__', '__init__', '__init_subclass__', '__iter__', '__le__', '__lt__', '__name__', '__ne__', '__new__', '__next__', '__qualname__', '__reduce__', '__reduce_ex__', '__repr__', '__setattr__', '__sizeof__', '__str__', '__subclasshook__', 'close', 'gi_code', 'gi_frame', 'gi_running', 'gi_yieldfrom', 'send', 'throw']\n"
     ]
    }
   ],
   "source": [
    "f = fibonacci(200)\n",
    "print(dir(f))"
   ]
  },
  {
   "attachments": {},
   "cell_type": "markdown",
   "id": "15d0d365",
   "metadata": {},
   "source": [
    "- Add iterator behavior to a class by defining an `__iter__()` method which returns an object with a `__next__()` method. If the class defines `__next__()`, then `__iter__()` can just return self"
   ]
  },
  {
   "cell_type": "code",
   "execution_count": 14,
   "id": "f7be076f",
   "metadata": {},
   "outputs": [
    {
     "data": {
      "text/plain": [
       "<__main__.fibonacci_class at 0x17d0aa71a00>"
      ]
     },
     "execution_count": 14,
     "metadata": {},
     "output_type": "execute_result"
    }
   ],
   "source": [
    "class fibonacci_class():\n",
    "    def __init__(self, num):\n",
    "        self.num = num\n",
    "    def __iter__(self):\n",
    "        self.a, self.b = 0, 1\n",
    "        return self\n",
    "    def __next__(self):\n",
    "        if self.a > self.num:\n",
    "            raise StopIteration\n",
    "        fib = self.a\n",
    "        self.a, self.b = self.b, self.a + self.b\n",
    "        return fib\n",
    "\n",
    "f = fibonacci_class(100)\n",
    "f"
   ]
  },
  {
   "cell_type": "code",
   "execution_count": 15,
   "id": "cd4a8190",
   "metadata": {
    "scrolled": true
   },
   "outputs": [
    {
     "name": "stdout",
     "output_type": "stream",
     "text": [
      "[0, 1, 1, 2, 3, 5, 8, 13, 21, 34, 55, 89]\n"
     ]
    }
   ],
   "source": [
    "print([x for x in f])"
   ]
  },
  {
   "cell_type": "code",
   "execution_count": 18,
   "id": "9501e4cc",
   "metadata": {},
   "outputs": [
    {
     "name": "stdout",
     "output_type": "stream",
     "text": [
      "0\n",
      "1\n",
      "1\n",
      "2\n",
      "True\n"
     ]
    }
   ],
   "source": [
    "iter_f = iter(f)\n",
    "print(next(iter_f))\n",
    "print(next(iter_f))\n",
    "print(next(iter_f))\n",
    "print(next(iter_f))\n",
    "print(f==iter_f)"
   ]
  },
  {
   "cell_type": "code",
   "execution_count": 19,
   "id": "b635cdc9",
   "metadata": {},
   "outputs": [],
   "source": [
    "class fibonacci_class():\n",
    "    def __init__(self, num):\n",
    "        self.a, self.b = 0, 1\n",
    "        self.num = num\n",
    "    def __iter__(self):\n",
    "        # self.a, self.b = 0, 1\n",
    "        return self\n",
    "    def __next__(self):\n",
    "        if self.a > self.num:\n",
    "            raise StopIteration\n",
    "        fib = self.a\n",
    "        self.a, self.b = self.b, self.a + self.b\n",
    "        return fib"
   ]
  },
  {
   "cell_type": "code",
   "execution_count": 20,
   "id": "91fca0bb",
   "metadata": {},
   "outputs": [
    {
     "name": "stdout",
     "output_type": "stream",
     "text": [
      "[0, 1, 1, 2, 3, 5, 8, 13, 21, 34, 55, 89]\n"
     ]
    }
   ],
   "source": [
    "f = fibonacci_class(100)\n",
    "print([x for x in f])"
   ]
  },
  {
   "cell_type": "code",
   "execution_count": 23,
   "id": "8e599b75",
   "metadata": {
    "scrolled": true
   },
   "outputs": [
    {
     "name": "stdout",
     "output_type": "stream",
     "text": [
      "True\n"
     ]
    },
    {
     "ename": "StopIteration",
     "evalue": "",
     "output_type": "error",
     "traceback": [
      "\u001b[1;31m---------------------------------------------------------------------------\u001b[0m",
      "\u001b[1;31mStopIteration\u001b[0m                             Traceback (most recent call last)",
      "\u001b[1;32m~\\AppData\\Local\\Temp/ipykernel_27272/3311640164.py\u001b[0m in \u001b[0;36m<module>\u001b[1;34m\u001b[0m\n\u001b[0;32m      1\u001b[0m \u001b[0miter_f\u001b[0m \u001b[1;33m=\u001b[0m \u001b[0miter\u001b[0m\u001b[1;33m(\u001b[0m\u001b[0mf\u001b[0m\u001b[1;33m)\u001b[0m\u001b[1;33m\u001b[0m\u001b[1;33m\u001b[0m\u001b[0m\n\u001b[0;32m      2\u001b[0m \u001b[0mprint\u001b[0m\u001b[1;33m(\u001b[0m\u001b[0mf\u001b[0m\u001b[1;33m==\u001b[0m\u001b[0miter_f\u001b[0m\u001b[1;33m)\u001b[0m\u001b[1;33m\u001b[0m\u001b[1;33m\u001b[0m\u001b[0m\n\u001b[1;32m----> 3\u001b[1;33m \u001b[0mprint\u001b[0m\u001b[1;33m(\u001b[0m\u001b[0mnext\u001b[0m\u001b[1;33m(\u001b[0m\u001b[0miter_f\u001b[0m\u001b[1;33m)\u001b[0m\u001b[1;33m)\u001b[0m\u001b[1;33m\u001b[0m\u001b[1;33m\u001b[0m\u001b[0m\n\u001b[0m",
      "\u001b[1;32m~\\AppData\\Local\\Temp/ipykernel_27272/2534915229.py\u001b[0m in \u001b[0;36m__next__\u001b[1;34m(self)\u001b[0m\n\u001b[0;32m      8\u001b[0m     \u001b[1;32mdef\u001b[0m \u001b[0m__next__\u001b[0m\u001b[1;33m(\u001b[0m\u001b[0mself\u001b[0m\u001b[1;33m)\u001b[0m\u001b[1;33m:\u001b[0m\u001b[1;33m\u001b[0m\u001b[1;33m\u001b[0m\u001b[0m\n\u001b[0;32m      9\u001b[0m         \u001b[1;32mif\u001b[0m \u001b[0mself\u001b[0m\u001b[1;33m.\u001b[0m\u001b[0ma\u001b[0m \u001b[1;33m>\u001b[0m \u001b[0mself\u001b[0m\u001b[1;33m.\u001b[0m\u001b[0mnum\u001b[0m\u001b[1;33m:\u001b[0m\u001b[1;33m\u001b[0m\u001b[1;33m\u001b[0m\u001b[0m\n\u001b[1;32m---> 10\u001b[1;33m             \u001b[1;32mraise\u001b[0m \u001b[0mStopIteration\u001b[0m\u001b[1;33m\u001b[0m\u001b[1;33m\u001b[0m\u001b[0m\n\u001b[0m\u001b[0;32m     11\u001b[0m         \u001b[0mfib\u001b[0m \u001b[1;33m=\u001b[0m \u001b[0mself\u001b[0m\u001b[1;33m.\u001b[0m\u001b[0ma\u001b[0m\u001b[1;33m\u001b[0m\u001b[1;33m\u001b[0m\u001b[0m\n\u001b[0;32m     12\u001b[0m         \u001b[0mself\u001b[0m\u001b[1;33m.\u001b[0m\u001b[0ma\u001b[0m\u001b[1;33m,\u001b[0m \u001b[0mself\u001b[0m\u001b[1;33m.\u001b[0m\u001b[0mb\u001b[0m \u001b[1;33m=\u001b[0m \u001b[0mself\u001b[0m\u001b[1;33m.\u001b[0m\u001b[0mb\u001b[0m\u001b[1;33m,\u001b[0m \u001b[0mself\u001b[0m\u001b[1;33m.\u001b[0m\u001b[0ma\u001b[0m \u001b[1;33m+\u001b[0m \u001b[0mself\u001b[0m\u001b[1;33m.\u001b[0m\u001b[0mb\u001b[0m\u001b[1;33m\u001b[0m\u001b[1;33m\u001b[0m\u001b[0m\n",
      "\u001b[1;31mStopIteration\u001b[0m: "
     ]
    }
   ],
   "source": [
    "iter_f = iter(f)\n",
    "print(f==iter_f)\n",
    "print(next(iter_f))"
   ]
  },
  {
   "attachments": {},
   "cell_type": "markdown",
   "id": "025e6d2f",
   "metadata": {},
   "source": [
    "# Coroutine\n",
    "- A coroutine is syntactically like a generator\n",
    "- In a coroutine,  `yield` usually appears on the `right side of an expression`. And it may or may not produce a value (If there is no expression after the `yield` keyword, the generator `yields None`\n",
    "- The coroutine may receive data from the caller which uses `send(data)` instead of `next() function (or __next__() method`\n",
    "- The caller usually pulls data from the generator & pushes data into the coroutines\n",
    "- It is even possible that no data goes in or out through the `yield` keyword.\n",
    "- Regardless of the flow of data, `yield` is a control flow device that can be used to implement cooperative multi-tasking: each coroutine yields control to a central scheduler so that other coroutines can be activated "
   ]
  },
  {
   "cell_type": "code",
   "execution_count": 39,
   "id": "fce09f47",
   "metadata": {},
   "outputs": [
    {
     "data": {
      "text/plain": [
       "<generator object grep at 0x0000017D0AB64740>"
      ]
     },
     "execution_count": 39,
     "metadata": {},
     "output_type": "execute_result"
    }
   ],
   "source": [
    "def grep(text):\n",
    "    print(f'Looking for pattern: {text}')\n",
    "    while True:\n",
    "        line = (yield)\n",
    "        if text in line:\n",
    "            print(line)\n",
    "\n",
    "g = grep('python')\n",
    "g"
   ]
  },
  {
   "cell_type": "code",
   "execution_count": 40,
   "id": "f10e334b",
   "metadata": {},
   "outputs": [
    {
     "ename": "TypeError",
     "evalue": "can't send non-None value to a just-started generator",
     "output_type": "error",
     "traceback": [
      "\u001b[1;31m---------------------------------------------------------------------------\u001b[0m",
      "\u001b[1;31mTypeError\u001b[0m                                 Traceback (most recent call last)",
      "\u001b[1;32m~\\AppData\\Local\\Temp/ipykernel_27272/1533016994.py\u001b[0m in \u001b[0;36m<module>\u001b[1;34m\u001b[0m\n\u001b[1;32m----> 1\u001b[1;33m \u001b[0mg\u001b[0m\u001b[1;33m.\u001b[0m\u001b[0msend\u001b[0m\u001b[1;33m(\u001b[0m\u001b[1;34m'python is awesome'\u001b[0m\u001b[1;33m)\u001b[0m\u001b[1;33m\u001b[0m\u001b[1;33m\u001b[0m\u001b[0m\n\u001b[0m",
      "\u001b[1;31mTypeError\u001b[0m: can't send non-None value to a just-started generator"
     ]
    }
   ],
   "source": [
    "g.send('python is awesome')"
   ]
  },
  {
   "attachments": {},
   "cell_type": "markdown",
   "id": "c57ca269",
   "metadata": {},
   "source": [
    "- All coroutines must be \"primed\" by first calling `__next__()` or `send(None)`"
   ]
  },
  {
   "cell_type": "code",
   "execution_count": 42,
   "id": "93caeed9",
   "metadata": {},
   "outputs": [
    {
     "name": "stdout",
     "output_type": "stream",
     "text": [
      "Looking for pattern: python\n"
     ]
    }
   ],
   "source": [
    "g.send(None)"
   ]
  },
  {
   "cell_type": "code",
   "execution_count": 43,
   "id": "98a81566",
   "metadata": {
    "scrolled": true
   },
   "outputs": [
    {
     "name": "stdout",
     "output_type": "stream",
     "text": [
      "python is awesome\n"
     ]
    }
   ],
   "source": [
    "g.send('python is awesome')"
   ]
  },
  {
   "cell_type": "markdown",
   "id": "9b892688",
   "metadata": {},
   "source": [
    "### Deccorate a coroutine"
   ]
  },
  {
   "cell_type": "code",
   "execution_count": 33,
   "id": "eb44b35a",
   "metadata": {},
   "outputs": [
    {
     "name": "stdout",
     "output_type": "stream",
     "text": [
      "Looking for pattern: python\n"
     ]
    }
   ],
   "source": [
    "from functools import wraps\n",
    "\n",
    "def coroutine(orig_func):\n",
    "    @wraps(orig_func)\n",
    "    def wrapper(*args, **kwargs):\n",
    "        cr_orig_func = orig_func(*args, **kwargs)\n",
    "        cr_orig_func.send(None)\n",
    "        return cr_orig_func\n",
    "    return wrapper\n",
    "\n",
    "@coroutine\n",
    "def grep(text):\n",
    "    print(f'Looking for pattern: {text}')\n",
    "    while True:\n",
    "        line = (yield)\n",
    "        if text in line:\n",
    "            print(line)\n",
    "\n",
    "g = grep('python')"
   ]
  },
  {
   "cell_type": "markdown",
   "id": "e7162097",
   "metadata": {},
   "source": [
    "- `@coroutine` decorator calls `__next__()` or `send(None)` to activate a coroutine"
   ]
  },
  {
   "cell_type": "code",
   "execution_count": 34,
   "id": "657fa438",
   "metadata": {},
   "outputs": [
    {
     "name": "stdout",
     "output_type": "stream",
     "text": [
      "python is awesome\n"
     ]
    }
   ],
   "source": [
    "g.send('python is awesome')"
   ]
  },
  {
   "cell_type": "code",
   "execution_count": 45,
   "id": "eb0dd301",
   "metadata": {},
   "outputs": [],
   "source": [
    "def gen_fn():\n",
    "    received_1 = (yield 1)\n",
    "    print(received_1)\n",
    "    \n",
    "    received_2 = (yield 2)\n",
    "    print(received_2)\n",
    "    \n",
    "    return 'End of gen_fn()'"
   ]
  },
  {
   "cell_type": "code",
   "execution_count": 47,
   "id": "22ad8b2f",
   "metadata": {},
   "outputs": [
    {
     "name": "stdout",
     "output_type": "stream",
     "text": [
      "sent Hello to received_1\n",
      "sent Bye to received_2\n",
      "End of gen_fn()\n"
     ]
    }
   ],
   "source": [
    "g = gen_fn()\n",
    "try:\n",
    "    g.send(None)\n",
    "    gen_fn_ret1 = g.send('sent Hello to received_1')\n",
    "    gen_fn_ret2 = g.send('sent Bye to received_2')\n",
    "    gen_fn_ret3 = g.send('Bye')\n",
    "except StopIteration as e:\n",
    "    print(e)"
   ]
  },
  {
   "cell_type": "code",
   "execution_count": 52,
   "id": "e0427066",
   "metadata": {},
   "outputs": [
    {
     "name": "stdout",
     "output_type": "stream",
     "text": [
      "gen_fn_ret1: 1\n",
      "sent Hello to received_1\n",
      "gen_fn_ret2: 2\n",
      "sent Bye to received_2\n",
      "End of gen_fn()\n"
     ]
    }
   ],
   "source": [
    "g = gen_fn()\n",
    "try:\n",
    "    gen_fn_ret1 = g.send(None)\n",
    "    print(f'gen_fn_ret1: {gen_fn_ret1}')\n",
    "    \n",
    "    gen_fn_ret2 = g.send('sent Hello to received_1')\n",
    "    print(f'gen_fn_ret2: {gen_fn_ret2}')\n",
    "    \n",
    "    gen_fn_ret3 = g.send('sent Bye to received_2')\n",
    "    print(f'gen_fn_ret3: {gen_fn_ret3}')\n",
    "except StopIteration as e:\n",
    "    print(e)"
   ]
  },
  {
   "attachments": {},
   "cell_type": "markdown",
   "id": "d9aed328",
   "metadata": {},
   "source": [
    "- Three phases in the execution of the  `gen_fn()`.\n",
    "- Each phase ends in a `yield` expression, and the next phase starts in the same line when the value of the `yield` expression is assigned to a variable"
   ]
  },
  {
   "attachments": {},
   "cell_type": "markdown",
   "id": "e7bd9c94",
   "metadata": {},
   "source": [
    "- Coroutines is a generator that can consume data\n",
    "- In the beginning, the last instruction pointer is -1, meaning the generator has not begun"
   ]
  },
  {
   "cell_type": "code",
   "execution_count": 61,
   "id": "370901c7",
   "metadata": {},
   "outputs": [
    {
     "name": "stdout",
     "output_type": "stream",
     "text": [
      "<generator object gen_fn at 0x0000017D0AB6A890>\n",
      "-1\n"
     ]
    }
   ],
   "source": [
    "g = gen_fn()\n",
    "print(g)\n",
    "print(g.gi_frame.f_lasti)"
   ]
  },
  {
   "cell_type": "markdown",
   "id": "ac222063",
   "metadata": {},
   "source": [
    "- The generator's instruction pointer is now 2 bytecodes from the start, part way through the 32 bytes of compiled Python. Because the generator is suspending from the `(yield 1)` expression. Its stack frame doesn’t have local variables\n"
   ]
  },
  {
   "cell_type": "code",
   "execution_count": 62,
   "id": "4ede5691",
   "metadata": {},
   "outputs": [
    {
     "name": "stdout",
     "output_type": "stream",
     "text": [
      "1\n",
      "2\n",
      "{}\n",
      "32\n"
     ]
    }
   ],
   "source": [
    "print(g.send(None))\n",
    "print(g.gi_frame.f_lasti)\n",
    "print(g.gi_frame.f_locals)\n",
    "print(len(g.gi_code.co_code))"
   ]
  },
  {
   "attachments": {},
   "cell_type": "markdown",
   "id": "5d4df4d2",
   "metadata": {},
   "source": [
    "- The generator's instruction pointer is now 16 bytecodes from the start. Its stack frame now contains the local variable `received_1`"
   ]
  },
  {
   "cell_type": "code",
   "execution_count": 63,
   "id": "d82abdc4",
   "metadata": {},
   "outputs": [
    {
     "name": "stdout",
     "output_type": "stream",
     "text": [
      "sent Hello to received_1\n",
      "2\n",
      "16\n",
      "{'received_1': 'sent Hello to received_1'}\n",
      "32\n"
     ]
    }
   ],
   "source": [
    "print(g.send('sent Hello to received_1'))\n",
    "print(g.gi_frame.f_lasti)\n",
    "print(g.gi_frame.f_locals)\n",
    "print(len(g.gi_code.co_code))"
   ]
  },
  {
   "attachments": {},
   "cell_type": "markdown",
   "id": "b0c6550f",
   "metadata": {},
   "source": [
    "- When call send again, the generator continues from its second `yield` and finishes by raising special `StopIteration` exception. The exception has value, which is the return value of the generator"
   ]
  },
  {
   "cell_type": "code",
   "execution_count": 64,
   "id": "59007f6f",
   "metadata": {
    "scrolled": true
   },
   "outputs": [
    {
     "name": "stdout",
     "output_type": "stream",
     "text": [
      "sent Bye to received_2\n"
     ]
    },
    {
     "ename": "StopIteration",
     "evalue": "End of gen_fn()",
     "output_type": "error",
     "traceback": [
      "\u001b[1;31m---------------------------------------------------------------------------\u001b[0m",
      "\u001b[1;31mStopIteration\u001b[0m                             Traceback (most recent call last)",
      "\u001b[1;32m~\\AppData\\Local\\Temp/ipykernel_27272/2528796572.py\u001b[0m in \u001b[0;36m<module>\u001b[1;34m\u001b[0m\n\u001b[1;32m----> 1\u001b[1;33m \u001b[0mprint\u001b[0m\u001b[1;33m(\u001b[0m\u001b[0mg\u001b[0m\u001b[1;33m.\u001b[0m\u001b[0msend\u001b[0m\u001b[1;33m(\u001b[0m\u001b[1;34m'sent Bye to received_2'\u001b[0m\u001b[1;33m)\u001b[0m\u001b[1;33m)\u001b[0m\u001b[1;33m\u001b[0m\u001b[1;33m\u001b[0m\u001b[0m\n\u001b[0m",
      "\u001b[1;31mStopIteration\u001b[0m: End of gen_fn()"
     ]
    }
   ],
   "source": [
    "print(g.send('sent Bye to received_2'))"
   ]
  },
  {
   "attachments": {},
   "cell_type": "markdown",
   "id": "641c3e31",
   "metadata": {},
   "source": [
    "- A coroutine can delegate work to a sub-coroutine with `yield from` and receive the result of the work"
   ]
  },
  {
   "cell_type": "code",
   "execution_count": 66,
   "id": "81294527",
   "metadata": {},
   "outputs": [
    {
     "name": "stdout",
     "output_type": "stream",
     "text": [
      "r1:  1\n",
      "Hello\n",
      "r2:  2\n",
      "Bye\n",
      "return value of yield-from:  End of gen_fn()\n",
      "return from call_fn()\n"
     ]
    }
   ],
   "source": [
    "def gen_fn():\n",
    "    received_1 = (yield 1)\n",
    "    print(received_1)\n",
    "    \n",
    "    received_2 = (yield 2)\n",
    "    print(received_2)\n",
    "    \n",
    "    return 'End of gen_fn()'\n",
    "\n",
    "def call_fn():\n",
    "    g = gen_fn()\n",
    "    g_return = yield from g\n",
    "    print(f'return value of yield-from:  {g_return}')\n",
    "    return 'return from call_fn()'\n",
    "\n",
    "caller = call_fn()\n",
    "try:\n",
    "    r1 = caller.send(None)\n",
    "    print('r1: ',r1)\n",
    "    r2 = caller.send('Hello')\n",
    "    print('r2: ',r2)\n",
    "    r3 = caller.send('Bye') # raise StopIteration here\n",
    "    print('r3: ',r3)\n",
    "except StopIteration as e:\n",
    "    print(e)"
   ]
  }
 ],
 "metadata": {
  "kernelspec": {
   "display_name": "Python 3 (ipykernel)",
   "language": "python",
   "name": "python3"
  },
  "language_info": {
   "codemirror_mode": {
    "name": "ipython",
    "version": 3
   },
   "file_extension": ".py",
   "mimetype": "text/x-python",
   "name": "python",
   "nbconvert_exporter": "python",
   "pygments_lexer": "ipython3",
   "version": "3.9.6"
  }
 },
 "nbformat": 4,
 "nbformat_minor": 5
}
